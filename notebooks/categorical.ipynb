{
 "metadata": {
  "language_info": {
   "codemirror_mode": {
    "name": "ipython",
    "version": 3
   },
   "file_extension": ".py",
   "mimetype": "text/x-python",
   "name": "python",
   "nbconvert_exporter": "python",
   "pygments_lexer": "ipython3",
   "version": "3.7.6"
  },
  "orig_nbformat": 4,
  "kernelspec": {
   "name": "python3",
   "display_name": "Python 3.7.6 64-bit ('py376': conda)"
  },
  "interpreter": {
   "hash": "cac450c2b82cae32fd79ecbc5aafaaec51768be87b8932363ba3ab6cc7647b92"
  }
 },
 "nbformat": 4,
 "nbformat_minor": 2,
 "cells": [
  {
   "cell_type": "code",
   "execution_count": 1,
   "metadata": {},
   "outputs": [],
   "source": [
    "import pandas as pd\n",
    "import numpy as np"
   ]
  },
  {
   "cell_type": "code",
   "execution_count": 2,
   "metadata": {},
   "outputs": [],
   "source": [
    "df = pd.read_csv('../input/cat_train.csv')"
   ]
  },
  {
   "cell_type": "code",
   "execution_count": 3,
   "metadata": {},
   "outputs": [],
   "source": [
    "mapping = {\n",
    " \"Freezing\": 0,\n",
    " \"Warm\": 1,\n",
    " \"Cold\": 2,\n",
    " \"Boiling Hot\": 3,\n",
    " \"Hot\": 4,\n",
    " \"Lava Hot\": 5\n",
    "}"
   ]
  },
  {
   "cell_type": "code",
   "execution_count": 4,
   "metadata": {},
   "outputs": [
    {
     "output_type": "execute_result",
     "data": {
      "text/plain": [
       "            id  bin_0  bin_1  bin_2 bin_3 bin_4 nom_0      nom_1    nom_2  \\\n",
       "0            0    0.0    0.0    0.0     F     N   Red  Trapezoid  Hamster   \n",
       "1            1    1.0    1.0    0.0     F     Y   Red       Star  Axolotl   \n",
       "2            2    0.0    1.0    0.0     F     N   Red        NaN  Hamster   \n",
       "3            3    NaN    0.0    0.0     F     N   Red     Circle  Hamster   \n",
       "4            4    0.0    NaN    0.0     T     N   Red   Triangle  Hamster   \n",
       "...        ...    ...    ...    ...   ...   ...   ...        ...      ...   \n",
       "599995  599995    0.0    1.0    0.0     T     N   Red    Polygon  Axolotl   \n",
       "599996  599996    1.0    0.0    0.0     T     Y  Blue    Polygon      Dog   \n",
       "599997  599997    0.0    0.0    0.0     F     Y   Red     Circle  Axolotl   \n",
       "599998  599998    1.0    1.0    0.0     F     Y   NaN    Polygon  Axolotl   \n",
       "599999  599999    0.0    0.0    0.0     T     N  Blue   Triangle      Dog   \n",
       "\n",
       "             nom_3  ...      nom_9 ord_0        ord_1        ord_2 ord_3  \\\n",
       "0           Russia  ...  02e7c8990   3.0  Contributor          Hot     c   \n",
       "1              NaN  ...  f37df64af   3.0  Grandmaster         Warm     e   \n",
       "2           Canada  ...        NaN   3.0          NaN     Freezing     n   \n",
       "3          Finland  ...  f9d456e57   1.0       Novice     Lava Hot     a   \n",
       "4       Costa Rica  ...  c5361037c   3.0  Grandmaster         Cold     h   \n",
       "...            ...  ...        ...   ...          ...          ...   ...   \n",
       "599995       India  ...  015c63324   3.0       Novice     Freezing     a   \n",
       "599996  Costa Rica  ...  a02ae6a63   2.0       Novice  Boiling Hot     n   \n",
       "599997      Russia  ...  40f9610c1   2.0  Contributor     Freezing     n   \n",
       "599998         NaN  ...  c1a8374a0   1.0       Master         Warm     m   \n",
       "599999      Russia  ...  e2aea7784   1.0  Contributor  Boiling Hot     b   \n",
       "\n",
       "       ord_4  ord_5  day month target  \n",
       "0          U     Pw  6.0   3.0      0  \n",
       "1          X     pE  7.0   7.0      0  \n",
       "2          P     eN  5.0   9.0      0  \n",
       "3          C    NaN  3.0   3.0      0  \n",
       "4          C     OZ  5.0  12.0      0  \n",
       "...      ...    ...  ...   ...    ...  \n",
       "599995     R     GZ  5.0   NaN      0  \n",
       "599996     N     sf  NaN   3.0      0  \n",
       "599997     H     MV  7.0   5.0      0  \n",
       "599998     X     Ey  1.0   5.0      0  \n",
       "599999     O     uI  5.0   8.0      0  \n",
       "\n",
       "[600000 rows x 25 columns]"
      ],
      "text/html": "<div>\n<style scoped>\n    .dataframe tbody tr th:only-of-type {\n        vertical-align: middle;\n    }\n\n    .dataframe tbody tr th {\n        vertical-align: top;\n    }\n\n    .dataframe thead th {\n        text-align: right;\n    }\n</style>\n<table border=\"1\" class=\"dataframe\">\n  <thead>\n    <tr style=\"text-align: right;\">\n      <th></th>\n      <th>id</th>\n      <th>bin_0</th>\n      <th>bin_1</th>\n      <th>bin_2</th>\n      <th>bin_3</th>\n      <th>bin_4</th>\n      <th>nom_0</th>\n      <th>nom_1</th>\n      <th>nom_2</th>\n      <th>nom_3</th>\n      <th>...</th>\n      <th>nom_9</th>\n      <th>ord_0</th>\n      <th>ord_1</th>\n      <th>ord_2</th>\n      <th>ord_3</th>\n      <th>ord_4</th>\n      <th>ord_5</th>\n      <th>day</th>\n      <th>month</th>\n      <th>target</th>\n    </tr>\n  </thead>\n  <tbody>\n    <tr>\n      <th>0</th>\n      <td>0</td>\n      <td>0.0</td>\n      <td>0.0</td>\n      <td>0.0</td>\n      <td>F</td>\n      <td>N</td>\n      <td>Red</td>\n      <td>Trapezoid</td>\n      <td>Hamster</td>\n      <td>Russia</td>\n      <td>...</td>\n      <td>02e7c8990</td>\n      <td>3.0</td>\n      <td>Contributor</td>\n      <td>Hot</td>\n      <td>c</td>\n      <td>U</td>\n      <td>Pw</td>\n      <td>6.0</td>\n      <td>3.0</td>\n      <td>0</td>\n    </tr>\n    <tr>\n      <th>1</th>\n      <td>1</td>\n      <td>1.0</td>\n      <td>1.0</td>\n      <td>0.0</td>\n      <td>F</td>\n      <td>Y</td>\n      <td>Red</td>\n      <td>Star</td>\n      <td>Axolotl</td>\n      <td>NaN</td>\n      <td>...</td>\n      <td>f37df64af</td>\n      <td>3.0</td>\n      <td>Grandmaster</td>\n      <td>Warm</td>\n      <td>e</td>\n      <td>X</td>\n      <td>pE</td>\n      <td>7.0</td>\n      <td>7.0</td>\n      <td>0</td>\n    </tr>\n    <tr>\n      <th>2</th>\n      <td>2</td>\n      <td>0.0</td>\n      <td>1.0</td>\n      <td>0.0</td>\n      <td>F</td>\n      <td>N</td>\n      <td>Red</td>\n      <td>NaN</td>\n      <td>Hamster</td>\n      <td>Canada</td>\n      <td>...</td>\n      <td>NaN</td>\n      <td>3.0</td>\n      <td>NaN</td>\n      <td>Freezing</td>\n      <td>n</td>\n      <td>P</td>\n      <td>eN</td>\n      <td>5.0</td>\n      <td>9.0</td>\n      <td>0</td>\n    </tr>\n    <tr>\n      <th>3</th>\n      <td>3</td>\n      <td>NaN</td>\n      <td>0.0</td>\n      <td>0.0</td>\n      <td>F</td>\n      <td>N</td>\n      <td>Red</td>\n      <td>Circle</td>\n      <td>Hamster</td>\n      <td>Finland</td>\n      <td>...</td>\n      <td>f9d456e57</td>\n      <td>1.0</td>\n      <td>Novice</td>\n      <td>Lava Hot</td>\n      <td>a</td>\n      <td>C</td>\n      <td>NaN</td>\n      <td>3.0</td>\n      <td>3.0</td>\n      <td>0</td>\n    </tr>\n    <tr>\n      <th>4</th>\n      <td>4</td>\n      <td>0.0</td>\n      <td>NaN</td>\n      <td>0.0</td>\n      <td>T</td>\n      <td>N</td>\n      <td>Red</td>\n      <td>Triangle</td>\n      <td>Hamster</td>\n      <td>Costa Rica</td>\n      <td>...</td>\n      <td>c5361037c</td>\n      <td>3.0</td>\n      <td>Grandmaster</td>\n      <td>Cold</td>\n      <td>h</td>\n      <td>C</td>\n      <td>OZ</td>\n      <td>5.0</td>\n      <td>12.0</td>\n      <td>0</td>\n    </tr>\n    <tr>\n      <th>...</th>\n      <td>...</td>\n      <td>...</td>\n      <td>...</td>\n      <td>...</td>\n      <td>...</td>\n      <td>...</td>\n      <td>...</td>\n      <td>...</td>\n      <td>...</td>\n      <td>...</td>\n      <td>...</td>\n      <td>...</td>\n      <td>...</td>\n      <td>...</td>\n      <td>...</td>\n      <td>...</td>\n      <td>...</td>\n      <td>...</td>\n      <td>...</td>\n      <td>...</td>\n      <td>...</td>\n    </tr>\n    <tr>\n      <th>599995</th>\n      <td>599995</td>\n      <td>0.0</td>\n      <td>1.0</td>\n      <td>0.0</td>\n      <td>T</td>\n      <td>N</td>\n      <td>Red</td>\n      <td>Polygon</td>\n      <td>Axolotl</td>\n      <td>India</td>\n      <td>...</td>\n      <td>015c63324</td>\n      <td>3.0</td>\n      <td>Novice</td>\n      <td>Freezing</td>\n      <td>a</td>\n      <td>R</td>\n      <td>GZ</td>\n      <td>5.0</td>\n      <td>NaN</td>\n      <td>0</td>\n    </tr>\n    <tr>\n      <th>599996</th>\n      <td>599996</td>\n      <td>1.0</td>\n      <td>0.0</td>\n      <td>0.0</td>\n      <td>T</td>\n      <td>Y</td>\n      <td>Blue</td>\n      <td>Polygon</td>\n      <td>Dog</td>\n      <td>Costa Rica</td>\n      <td>...</td>\n      <td>a02ae6a63</td>\n      <td>2.0</td>\n      <td>Novice</td>\n      <td>Boiling Hot</td>\n      <td>n</td>\n      <td>N</td>\n      <td>sf</td>\n      <td>NaN</td>\n      <td>3.0</td>\n      <td>0</td>\n    </tr>\n    <tr>\n      <th>599997</th>\n      <td>599997</td>\n      <td>0.0</td>\n      <td>0.0</td>\n      <td>0.0</td>\n      <td>F</td>\n      <td>Y</td>\n      <td>Red</td>\n      <td>Circle</td>\n      <td>Axolotl</td>\n      <td>Russia</td>\n      <td>...</td>\n      <td>40f9610c1</td>\n      <td>2.0</td>\n      <td>Contributor</td>\n      <td>Freezing</td>\n      <td>n</td>\n      <td>H</td>\n      <td>MV</td>\n      <td>7.0</td>\n      <td>5.0</td>\n      <td>0</td>\n    </tr>\n    <tr>\n      <th>599998</th>\n      <td>599998</td>\n      <td>1.0</td>\n      <td>1.0</td>\n      <td>0.0</td>\n      <td>F</td>\n      <td>Y</td>\n      <td>NaN</td>\n      <td>Polygon</td>\n      <td>Axolotl</td>\n      <td>NaN</td>\n      <td>...</td>\n      <td>c1a8374a0</td>\n      <td>1.0</td>\n      <td>Master</td>\n      <td>Warm</td>\n      <td>m</td>\n      <td>X</td>\n      <td>Ey</td>\n      <td>1.0</td>\n      <td>5.0</td>\n      <td>0</td>\n    </tr>\n    <tr>\n      <th>599999</th>\n      <td>599999</td>\n      <td>0.0</td>\n      <td>0.0</td>\n      <td>0.0</td>\n      <td>T</td>\n      <td>N</td>\n      <td>Blue</td>\n      <td>Triangle</td>\n      <td>Dog</td>\n      <td>Russia</td>\n      <td>...</td>\n      <td>e2aea7784</td>\n      <td>1.0</td>\n      <td>Contributor</td>\n      <td>Boiling Hot</td>\n      <td>b</td>\n      <td>O</td>\n      <td>uI</td>\n      <td>5.0</td>\n      <td>8.0</td>\n      <td>0</td>\n    </tr>\n  </tbody>\n</table>\n<p>600000 rows × 25 columns</p>\n</div>"
     },
     "metadata": {},
     "execution_count": 4
    }
   ],
   "source": [
    "df"
   ]
  },
  {
   "cell_type": "code",
   "execution_count": 5,
   "metadata": {},
   "outputs": [],
   "source": [
    "df.loc[:, \"ord_2\"] = df.ord_2.map(mapping)"
   ]
  },
  {
   "cell_type": "code",
   "execution_count": 6,
   "metadata": {},
   "outputs": [
    {
     "output_type": "execute_result",
     "data": {
      "text/plain": [
       "            id  bin_0  bin_1  bin_2 bin_3 bin_4 nom_0      nom_1    nom_2  \\\n",
       "0            0    0.0    0.0    0.0     F     N   Red  Trapezoid  Hamster   \n",
       "1            1    1.0    1.0    0.0     F     Y   Red       Star  Axolotl   \n",
       "2            2    0.0    1.0    0.0     F     N   Red        NaN  Hamster   \n",
       "3            3    NaN    0.0    0.0     F     N   Red     Circle  Hamster   \n",
       "4            4    0.0    NaN    0.0     T     N   Red   Triangle  Hamster   \n",
       "...        ...    ...    ...    ...   ...   ...   ...        ...      ...   \n",
       "599995  599995    0.0    1.0    0.0     T     N   Red    Polygon  Axolotl   \n",
       "599996  599996    1.0    0.0    0.0     T     Y  Blue    Polygon      Dog   \n",
       "599997  599997    0.0    0.0    0.0     F     Y   Red     Circle  Axolotl   \n",
       "599998  599998    1.0    1.0    0.0     F     Y   NaN    Polygon  Axolotl   \n",
       "599999  599999    0.0    0.0    0.0     T     N  Blue   Triangle      Dog   \n",
       "\n",
       "             nom_3  ...      nom_9 ord_0        ord_1 ord_2 ord_3 ord_4  \\\n",
       "0           Russia  ...  02e7c8990   3.0  Contributor   4.0     c     U   \n",
       "1              NaN  ...  f37df64af   3.0  Grandmaster   1.0     e     X   \n",
       "2           Canada  ...        NaN   3.0          NaN   0.0     n     P   \n",
       "3          Finland  ...  f9d456e57   1.0       Novice   5.0     a     C   \n",
       "4       Costa Rica  ...  c5361037c   3.0  Grandmaster   2.0     h     C   \n",
       "...            ...  ...        ...   ...          ...   ...   ...   ...   \n",
       "599995       India  ...  015c63324   3.0       Novice   0.0     a     R   \n",
       "599996  Costa Rica  ...  a02ae6a63   2.0       Novice   3.0     n     N   \n",
       "599997      Russia  ...  40f9610c1   2.0  Contributor   0.0     n     H   \n",
       "599998         NaN  ...  c1a8374a0   1.0       Master   1.0     m     X   \n",
       "599999      Russia  ...  e2aea7784   1.0  Contributor   3.0     b     O   \n",
       "\n",
       "        ord_5  day  month target  \n",
       "0          Pw  6.0    3.0      0  \n",
       "1          pE  7.0    7.0      0  \n",
       "2          eN  5.0    9.0      0  \n",
       "3         NaN  3.0    3.0      0  \n",
       "4          OZ  5.0   12.0      0  \n",
       "...       ...  ...    ...    ...  \n",
       "599995     GZ  5.0    NaN      0  \n",
       "599996     sf  NaN    3.0      0  \n",
       "599997     MV  7.0    5.0      0  \n",
       "599998     Ey  1.0    5.0      0  \n",
       "599999     uI  5.0    8.0      0  \n",
       "\n",
       "[600000 rows x 25 columns]"
      ],
      "text/html": "<div>\n<style scoped>\n    .dataframe tbody tr th:only-of-type {\n        vertical-align: middle;\n    }\n\n    .dataframe tbody tr th {\n        vertical-align: top;\n    }\n\n    .dataframe thead th {\n        text-align: right;\n    }\n</style>\n<table border=\"1\" class=\"dataframe\">\n  <thead>\n    <tr style=\"text-align: right;\">\n      <th></th>\n      <th>id</th>\n      <th>bin_0</th>\n      <th>bin_1</th>\n      <th>bin_2</th>\n      <th>bin_3</th>\n      <th>bin_4</th>\n      <th>nom_0</th>\n      <th>nom_1</th>\n      <th>nom_2</th>\n      <th>nom_3</th>\n      <th>...</th>\n      <th>nom_9</th>\n      <th>ord_0</th>\n      <th>ord_1</th>\n      <th>ord_2</th>\n      <th>ord_3</th>\n      <th>ord_4</th>\n      <th>ord_5</th>\n      <th>day</th>\n      <th>month</th>\n      <th>target</th>\n    </tr>\n  </thead>\n  <tbody>\n    <tr>\n      <th>0</th>\n      <td>0</td>\n      <td>0.0</td>\n      <td>0.0</td>\n      <td>0.0</td>\n      <td>F</td>\n      <td>N</td>\n      <td>Red</td>\n      <td>Trapezoid</td>\n      <td>Hamster</td>\n      <td>Russia</td>\n      <td>...</td>\n      <td>02e7c8990</td>\n      <td>3.0</td>\n      <td>Contributor</td>\n      <td>4.0</td>\n      <td>c</td>\n      <td>U</td>\n      <td>Pw</td>\n      <td>6.0</td>\n      <td>3.0</td>\n      <td>0</td>\n    </tr>\n    <tr>\n      <th>1</th>\n      <td>1</td>\n      <td>1.0</td>\n      <td>1.0</td>\n      <td>0.0</td>\n      <td>F</td>\n      <td>Y</td>\n      <td>Red</td>\n      <td>Star</td>\n      <td>Axolotl</td>\n      <td>NaN</td>\n      <td>...</td>\n      <td>f37df64af</td>\n      <td>3.0</td>\n      <td>Grandmaster</td>\n      <td>1.0</td>\n      <td>e</td>\n      <td>X</td>\n      <td>pE</td>\n      <td>7.0</td>\n      <td>7.0</td>\n      <td>0</td>\n    </tr>\n    <tr>\n      <th>2</th>\n      <td>2</td>\n      <td>0.0</td>\n      <td>1.0</td>\n      <td>0.0</td>\n      <td>F</td>\n      <td>N</td>\n      <td>Red</td>\n      <td>NaN</td>\n      <td>Hamster</td>\n      <td>Canada</td>\n      <td>...</td>\n      <td>NaN</td>\n      <td>3.0</td>\n      <td>NaN</td>\n      <td>0.0</td>\n      <td>n</td>\n      <td>P</td>\n      <td>eN</td>\n      <td>5.0</td>\n      <td>9.0</td>\n      <td>0</td>\n    </tr>\n    <tr>\n      <th>3</th>\n      <td>3</td>\n      <td>NaN</td>\n      <td>0.0</td>\n      <td>0.0</td>\n      <td>F</td>\n      <td>N</td>\n      <td>Red</td>\n      <td>Circle</td>\n      <td>Hamster</td>\n      <td>Finland</td>\n      <td>...</td>\n      <td>f9d456e57</td>\n      <td>1.0</td>\n      <td>Novice</td>\n      <td>5.0</td>\n      <td>a</td>\n      <td>C</td>\n      <td>NaN</td>\n      <td>3.0</td>\n      <td>3.0</td>\n      <td>0</td>\n    </tr>\n    <tr>\n      <th>4</th>\n      <td>4</td>\n      <td>0.0</td>\n      <td>NaN</td>\n      <td>0.0</td>\n      <td>T</td>\n      <td>N</td>\n      <td>Red</td>\n      <td>Triangle</td>\n      <td>Hamster</td>\n      <td>Costa Rica</td>\n      <td>...</td>\n      <td>c5361037c</td>\n      <td>3.0</td>\n      <td>Grandmaster</td>\n      <td>2.0</td>\n      <td>h</td>\n      <td>C</td>\n      <td>OZ</td>\n      <td>5.0</td>\n      <td>12.0</td>\n      <td>0</td>\n    </tr>\n    <tr>\n      <th>...</th>\n      <td>...</td>\n      <td>...</td>\n      <td>...</td>\n      <td>...</td>\n      <td>...</td>\n      <td>...</td>\n      <td>...</td>\n      <td>...</td>\n      <td>...</td>\n      <td>...</td>\n      <td>...</td>\n      <td>...</td>\n      <td>...</td>\n      <td>...</td>\n      <td>...</td>\n      <td>...</td>\n      <td>...</td>\n      <td>...</td>\n      <td>...</td>\n      <td>...</td>\n      <td>...</td>\n    </tr>\n    <tr>\n      <th>599995</th>\n      <td>599995</td>\n      <td>0.0</td>\n      <td>1.0</td>\n      <td>0.0</td>\n      <td>T</td>\n      <td>N</td>\n      <td>Red</td>\n      <td>Polygon</td>\n      <td>Axolotl</td>\n      <td>India</td>\n      <td>...</td>\n      <td>015c63324</td>\n      <td>3.0</td>\n      <td>Novice</td>\n      <td>0.0</td>\n      <td>a</td>\n      <td>R</td>\n      <td>GZ</td>\n      <td>5.0</td>\n      <td>NaN</td>\n      <td>0</td>\n    </tr>\n    <tr>\n      <th>599996</th>\n      <td>599996</td>\n      <td>1.0</td>\n      <td>0.0</td>\n      <td>0.0</td>\n      <td>T</td>\n      <td>Y</td>\n      <td>Blue</td>\n      <td>Polygon</td>\n      <td>Dog</td>\n      <td>Costa Rica</td>\n      <td>...</td>\n      <td>a02ae6a63</td>\n      <td>2.0</td>\n      <td>Novice</td>\n      <td>3.0</td>\n      <td>n</td>\n      <td>N</td>\n      <td>sf</td>\n      <td>NaN</td>\n      <td>3.0</td>\n      <td>0</td>\n    </tr>\n    <tr>\n      <th>599997</th>\n      <td>599997</td>\n      <td>0.0</td>\n      <td>0.0</td>\n      <td>0.0</td>\n      <td>F</td>\n      <td>Y</td>\n      <td>Red</td>\n      <td>Circle</td>\n      <td>Axolotl</td>\n      <td>Russia</td>\n      <td>...</td>\n      <td>40f9610c1</td>\n      <td>2.0</td>\n      <td>Contributor</td>\n      <td>0.0</td>\n      <td>n</td>\n      <td>H</td>\n      <td>MV</td>\n      <td>7.0</td>\n      <td>5.0</td>\n      <td>0</td>\n    </tr>\n    <tr>\n      <th>599998</th>\n      <td>599998</td>\n      <td>1.0</td>\n      <td>1.0</td>\n      <td>0.0</td>\n      <td>F</td>\n      <td>Y</td>\n      <td>NaN</td>\n      <td>Polygon</td>\n      <td>Axolotl</td>\n      <td>NaN</td>\n      <td>...</td>\n      <td>c1a8374a0</td>\n      <td>1.0</td>\n      <td>Master</td>\n      <td>1.0</td>\n      <td>m</td>\n      <td>X</td>\n      <td>Ey</td>\n      <td>1.0</td>\n      <td>5.0</td>\n      <td>0</td>\n    </tr>\n    <tr>\n      <th>599999</th>\n      <td>599999</td>\n      <td>0.0</td>\n      <td>0.0</td>\n      <td>0.0</td>\n      <td>T</td>\n      <td>N</td>\n      <td>Blue</td>\n      <td>Triangle</td>\n      <td>Dog</td>\n      <td>Russia</td>\n      <td>...</td>\n      <td>e2aea7784</td>\n      <td>1.0</td>\n      <td>Contributor</td>\n      <td>3.0</td>\n      <td>b</td>\n      <td>O</td>\n      <td>uI</td>\n      <td>5.0</td>\n      <td>8.0</td>\n      <td>0</td>\n    </tr>\n  </tbody>\n</table>\n<p>600000 rows × 25 columns</p>\n</div>"
     },
     "metadata": {},
     "execution_count": 6
    }
   ],
   "source": [
    "df"
   ]
  },
  {
   "cell_type": "code",
   "execution_count": 7,
   "metadata": {},
   "outputs": [
    {
     "output_type": "execute_result",
     "data": {
      "text/plain": [
       "0.0    142726\n",
       "1.0    124239\n",
       "2.0     97822\n",
       "3.0     84790\n",
       "4.0     67508\n",
       "5.0     64840\n",
       "Name: ord_2, dtype: int64"
      ]
     },
     "metadata": {},
     "execution_count": 7
    }
   ],
   "source": [
    "df.ord_2.value_counts()"
   ]
  },
  {
   "cell_type": "code",
   "execution_count": 8,
   "metadata": {},
   "outputs": [],
   "source": [
    "import pandas as pd\n",
    "from sklearn import preprocessing\n",
    "# read the data\n",
    "df = pd.read_csv(\"../input/cat_train.csv\")\n",
    "# fill NaN values in ord_2 column\n",
    "df.loc[:, \"ord_2\"] = df.ord_2.fillna(\"NONE\")"
   ]
  },
  {
   "cell_type": "code",
   "execution_count": 9,
   "metadata": {},
   "outputs": [
    {
     "output_type": "execute_result",
     "data": {
      "text/plain": [
       "            id  bin_0  bin_1  bin_2 bin_3 bin_4 nom_0      nom_1    nom_2  \\\n",
       "0            0    0.0    0.0    0.0     F     N   Red  Trapezoid  Hamster   \n",
       "1            1    1.0    1.0    0.0     F     Y   Red       Star  Axolotl   \n",
       "2            2    0.0    1.0    0.0     F     N   Red        NaN  Hamster   \n",
       "3            3    NaN    0.0    0.0     F     N   Red     Circle  Hamster   \n",
       "4            4    0.0    NaN    0.0     T     N   Red   Triangle  Hamster   \n",
       "...        ...    ...    ...    ...   ...   ...   ...        ...      ...   \n",
       "599995  599995    0.0    1.0    0.0     T     N   Red    Polygon  Axolotl   \n",
       "599996  599996    1.0    0.0    0.0     T     Y  Blue    Polygon      Dog   \n",
       "599997  599997    0.0    0.0    0.0     F     Y   Red     Circle  Axolotl   \n",
       "599998  599998    1.0    1.0    0.0     F     Y   NaN    Polygon  Axolotl   \n",
       "599999  599999    0.0    0.0    0.0     T     N  Blue   Triangle      Dog   \n",
       "\n",
       "             nom_3  ...      nom_9 ord_0        ord_1        ord_2 ord_3  \\\n",
       "0           Russia  ...  02e7c8990   3.0  Contributor          Hot     c   \n",
       "1              NaN  ...  f37df64af   3.0  Grandmaster         Warm     e   \n",
       "2           Canada  ...        NaN   3.0          NaN     Freezing     n   \n",
       "3          Finland  ...  f9d456e57   1.0       Novice     Lava Hot     a   \n",
       "4       Costa Rica  ...  c5361037c   3.0  Grandmaster         Cold     h   \n",
       "...            ...  ...        ...   ...          ...          ...   ...   \n",
       "599995       India  ...  015c63324   3.0       Novice     Freezing     a   \n",
       "599996  Costa Rica  ...  a02ae6a63   2.0       Novice  Boiling Hot     n   \n",
       "599997      Russia  ...  40f9610c1   2.0  Contributor     Freezing     n   \n",
       "599998         NaN  ...  c1a8374a0   1.0       Master         Warm     m   \n",
       "599999      Russia  ...  e2aea7784   1.0  Contributor  Boiling Hot     b   \n",
       "\n",
       "       ord_4  ord_5  day month target  \n",
       "0          U     Pw  6.0   3.0      0  \n",
       "1          X     pE  7.0   7.0      0  \n",
       "2          P     eN  5.0   9.0      0  \n",
       "3          C    NaN  3.0   3.0      0  \n",
       "4          C     OZ  5.0  12.0      0  \n",
       "...      ...    ...  ...   ...    ...  \n",
       "599995     R     GZ  5.0   NaN      0  \n",
       "599996     N     sf  NaN   3.0      0  \n",
       "599997     H     MV  7.0   5.0      0  \n",
       "599998     X     Ey  1.0   5.0      0  \n",
       "599999     O     uI  5.0   8.0      0  \n",
       "\n",
       "[600000 rows x 25 columns]"
      ],
      "text/html": "<div>\n<style scoped>\n    .dataframe tbody tr th:only-of-type {\n        vertical-align: middle;\n    }\n\n    .dataframe tbody tr th {\n        vertical-align: top;\n    }\n\n    .dataframe thead th {\n        text-align: right;\n    }\n</style>\n<table border=\"1\" class=\"dataframe\">\n  <thead>\n    <tr style=\"text-align: right;\">\n      <th></th>\n      <th>id</th>\n      <th>bin_0</th>\n      <th>bin_1</th>\n      <th>bin_2</th>\n      <th>bin_3</th>\n      <th>bin_4</th>\n      <th>nom_0</th>\n      <th>nom_1</th>\n      <th>nom_2</th>\n      <th>nom_3</th>\n      <th>...</th>\n      <th>nom_9</th>\n      <th>ord_0</th>\n      <th>ord_1</th>\n      <th>ord_2</th>\n      <th>ord_3</th>\n      <th>ord_4</th>\n      <th>ord_5</th>\n      <th>day</th>\n      <th>month</th>\n      <th>target</th>\n    </tr>\n  </thead>\n  <tbody>\n    <tr>\n      <th>0</th>\n      <td>0</td>\n      <td>0.0</td>\n      <td>0.0</td>\n      <td>0.0</td>\n      <td>F</td>\n      <td>N</td>\n      <td>Red</td>\n      <td>Trapezoid</td>\n      <td>Hamster</td>\n      <td>Russia</td>\n      <td>...</td>\n      <td>02e7c8990</td>\n      <td>3.0</td>\n      <td>Contributor</td>\n      <td>Hot</td>\n      <td>c</td>\n      <td>U</td>\n      <td>Pw</td>\n      <td>6.0</td>\n      <td>3.0</td>\n      <td>0</td>\n    </tr>\n    <tr>\n      <th>1</th>\n      <td>1</td>\n      <td>1.0</td>\n      <td>1.0</td>\n      <td>0.0</td>\n      <td>F</td>\n      <td>Y</td>\n      <td>Red</td>\n      <td>Star</td>\n      <td>Axolotl</td>\n      <td>NaN</td>\n      <td>...</td>\n      <td>f37df64af</td>\n      <td>3.0</td>\n      <td>Grandmaster</td>\n      <td>Warm</td>\n      <td>e</td>\n      <td>X</td>\n      <td>pE</td>\n      <td>7.0</td>\n      <td>7.0</td>\n      <td>0</td>\n    </tr>\n    <tr>\n      <th>2</th>\n      <td>2</td>\n      <td>0.0</td>\n      <td>1.0</td>\n      <td>0.0</td>\n      <td>F</td>\n      <td>N</td>\n      <td>Red</td>\n      <td>NaN</td>\n      <td>Hamster</td>\n      <td>Canada</td>\n      <td>...</td>\n      <td>NaN</td>\n      <td>3.0</td>\n      <td>NaN</td>\n      <td>Freezing</td>\n      <td>n</td>\n      <td>P</td>\n      <td>eN</td>\n      <td>5.0</td>\n      <td>9.0</td>\n      <td>0</td>\n    </tr>\n    <tr>\n      <th>3</th>\n      <td>3</td>\n      <td>NaN</td>\n      <td>0.0</td>\n      <td>0.0</td>\n      <td>F</td>\n      <td>N</td>\n      <td>Red</td>\n      <td>Circle</td>\n      <td>Hamster</td>\n      <td>Finland</td>\n      <td>...</td>\n      <td>f9d456e57</td>\n      <td>1.0</td>\n      <td>Novice</td>\n      <td>Lava Hot</td>\n      <td>a</td>\n      <td>C</td>\n      <td>NaN</td>\n      <td>3.0</td>\n      <td>3.0</td>\n      <td>0</td>\n    </tr>\n    <tr>\n      <th>4</th>\n      <td>4</td>\n      <td>0.0</td>\n      <td>NaN</td>\n      <td>0.0</td>\n      <td>T</td>\n      <td>N</td>\n      <td>Red</td>\n      <td>Triangle</td>\n      <td>Hamster</td>\n      <td>Costa Rica</td>\n      <td>...</td>\n      <td>c5361037c</td>\n      <td>3.0</td>\n      <td>Grandmaster</td>\n      <td>Cold</td>\n      <td>h</td>\n      <td>C</td>\n      <td>OZ</td>\n      <td>5.0</td>\n      <td>12.0</td>\n      <td>0</td>\n    </tr>\n    <tr>\n      <th>...</th>\n      <td>...</td>\n      <td>...</td>\n      <td>...</td>\n      <td>...</td>\n      <td>...</td>\n      <td>...</td>\n      <td>...</td>\n      <td>...</td>\n      <td>...</td>\n      <td>...</td>\n      <td>...</td>\n      <td>...</td>\n      <td>...</td>\n      <td>...</td>\n      <td>...</td>\n      <td>...</td>\n      <td>...</td>\n      <td>...</td>\n      <td>...</td>\n      <td>...</td>\n      <td>...</td>\n    </tr>\n    <tr>\n      <th>599995</th>\n      <td>599995</td>\n      <td>0.0</td>\n      <td>1.0</td>\n      <td>0.0</td>\n      <td>T</td>\n      <td>N</td>\n      <td>Red</td>\n      <td>Polygon</td>\n      <td>Axolotl</td>\n      <td>India</td>\n      <td>...</td>\n      <td>015c63324</td>\n      <td>3.0</td>\n      <td>Novice</td>\n      <td>Freezing</td>\n      <td>a</td>\n      <td>R</td>\n      <td>GZ</td>\n      <td>5.0</td>\n      <td>NaN</td>\n      <td>0</td>\n    </tr>\n    <tr>\n      <th>599996</th>\n      <td>599996</td>\n      <td>1.0</td>\n      <td>0.0</td>\n      <td>0.0</td>\n      <td>T</td>\n      <td>Y</td>\n      <td>Blue</td>\n      <td>Polygon</td>\n      <td>Dog</td>\n      <td>Costa Rica</td>\n      <td>...</td>\n      <td>a02ae6a63</td>\n      <td>2.0</td>\n      <td>Novice</td>\n      <td>Boiling Hot</td>\n      <td>n</td>\n      <td>N</td>\n      <td>sf</td>\n      <td>NaN</td>\n      <td>3.0</td>\n      <td>0</td>\n    </tr>\n    <tr>\n      <th>599997</th>\n      <td>599997</td>\n      <td>0.0</td>\n      <td>0.0</td>\n      <td>0.0</td>\n      <td>F</td>\n      <td>Y</td>\n      <td>Red</td>\n      <td>Circle</td>\n      <td>Axolotl</td>\n      <td>Russia</td>\n      <td>...</td>\n      <td>40f9610c1</td>\n      <td>2.0</td>\n      <td>Contributor</td>\n      <td>Freezing</td>\n      <td>n</td>\n      <td>H</td>\n      <td>MV</td>\n      <td>7.0</td>\n      <td>5.0</td>\n      <td>0</td>\n    </tr>\n    <tr>\n      <th>599998</th>\n      <td>599998</td>\n      <td>1.0</td>\n      <td>1.0</td>\n      <td>0.0</td>\n      <td>F</td>\n      <td>Y</td>\n      <td>NaN</td>\n      <td>Polygon</td>\n      <td>Axolotl</td>\n      <td>NaN</td>\n      <td>...</td>\n      <td>c1a8374a0</td>\n      <td>1.0</td>\n      <td>Master</td>\n      <td>Warm</td>\n      <td>m</td>\n      <td>X</td>\n      <td>Ey</td>\n      <td>1.0</td>\n      <td>5.0</td>\n      <td>0</td>\n    </tr>\n    <tr>\n      <th>599999</th>\n      <td>599999</td>\n      <td>0.0</td>\n      <td>0.0</td>\n      <td>0.0</td>\n      <td>T</td>\n      <td>N</td>\n      <td>Blue</td>\n      <td>Triangle</td>\n      <td>Dog</td>\n      <td>Russia</td>\n      <td>...</td>\n      <td>e2aea7784</td>\n      <td>1.0</td>\n      <td>Contributor</td>\n      <td>Boiling Hot</td>\n      <td>b</td>\n      <td>O</td>\n      <td>uI</td>\n      <td>5.0</td>\n      <td>8.0</td>\n      <td>0</td>\n    </tr>\n  </tbody>\n</table>\n<p>600000 rows × 25 columns</p>\n</div>"
     },
     "metadata": {},
     "execution_count": 9
    }
   ],
   "source": [
    "df"
   ]
  },
  {
   "cell_type": "code",
   "execution_count": 10,
   "metadata": {},
   "outputs": [],
   "source": [
    "# initialize LabelEncoder\n",
    "lbl_enc = preprocessing.LabelEncoder()\n",
    "# fit label encoder and transform values on ord_2 column\n",
    "# P.S: do not use this directly. fit first, then transform\n",
    "df.loc[:, \"ord_2\"] = lbl_enc.fit_transform(df.ord_2.values)"
   ]
  },
  {
   "cell_type": "code",
   "execution_count": 11,
   "metadata": {},
   "outputs": [
    {
     "output_type": "execute_result",
     "data": {
      "text/plain": [
       "            id  bin_0  bin_1  bin_2 bin_3 bin_4 nom_0      nom_1    nom_2  \\\n",
       "0            0    0.0    0.0    0.0     F     N   Red  Trapezoid  Hamster   \n",
       "1            1    1.0    1.0    0.0     F     Y   Red       Star  Axolotl   \n",
       "2            2    0.0    1.0    0.0     F     N   Red        NaN  Hamster   \n",
       "3            3    NaN    0.0    0.0     F     N   Red     Circle  Hamster   \n",
       "4            4    0.0    NaN    0.0     T     N   Red   Triangle  Hamster   \n",
       "...        ...    ...    ...    ...   ...   ...   ...        ...      ...   \n",
       "599995  599995    0.0    1.0    0.0     T     N   Red    Polygon  Axolotl   \n",
       "599996  599996    1.0    0.0    0.0     T     Y  Blue    Polygon      Dog   \n",
       "599997  599997    0.0    0.0    0.0     F     Y   Red     Circle  Axolotl   \n",
       "599998  599998    1.0    1.0    0.0     F     Y   NaN    Polygon  Axolotl   \n",
       "599999  599999    0.0    0.0    0.0     T     N  Blue   Triangle      Dog   \n",
       "\n",
       "             nom_3  ...      nom_9 ord_0        ord_1 ord_2 ord_3 ord_4  \\\n",
       "0           Russia  ...  02e7c8990   3.0  Contributor     3     c     U   \n",
       "1              NaN  ...  f37df64af   3.0  Grandmaster     6     e     X   \n",
       "2           Canada  ...        NaN   3.0          NaN     2     n     P   \n",
       "3          Finland  ...  f9d456e57   1.0       Novice     4     a     C   \n",
       "4       Costa Rica  ...  c5361037c   3.0  Grandmaster     1     h     C   \n",
       "...            ...  ...        ...   ...          ...   ...   ...   ...   \n",
       "599995       India  ...  015c63324   3.0       Novice     2     a     R   \n",
       "599996  Costa Rica  ...  a02ae6a63   2.0       Novice     0     n     N   \n",
       "599997      Russia  ...  40f9610c1   2.0  Contributor     2     n     H   \n",
       "599998         NaN  ...  c1a8374a0   1.0       Master     6     m     X   \n",
       "599999      Russia  ...  e2aea7784   1.0  Contributor     0     b     O   \n",
       "\n",
       "        ord_5  day  month target  \n",
       "0          Pw  6.0    3.0      0  \n",
       "1          pE  7.0    7.0      0  \n",
       "2          eN  5.0    9.0      0  \n",
       "3         NaN  3.0    3.0      0  \n",
       "4          OZ  5.0   12.0      0  \n",
       "...       ...  ...    ...    ...  \n",
       "599995     GZ  5.0    NaN      0  \n",
       "599996     sf  NaN    3.0      0  \n",
       "599997     MV  7.0    5.0      0  \n",
       "599998     Ey  1.0    5.0      0  \n",
       "599999     uI  5.0    8.0      0  \n",
       "\n",
       "[600000 rows x 25 columns]"
      ],
      "text/html": "<div>\n<style scoped>\n    .dataframe tbody tr th:only-of-type {\n        vertical-align: middle;\n    }\n\n    .dataframe tbody tr th {\n        vertical-align: top;\n    }\n\n    .dataframe thead th {\n        text-align: right;\n    }\n</style>\n<table border=\"1\" class=\"dataframe\">\n  <thead>\n    <tr style=\"text-align: right;\">\n      <th></th>\n      <th>id</th>\n      <th>bin_0</th>\n      <th>bin_1</th>\n      <th>bin_2</th>\n      <th>bin_3</th>\n      <th>bin_4</th>\n      <th>nom_0</th>\n      <th>nom_1</th>\n      <th>nom_2</th>\n      <th>nom_3</th>\n      <th>...</th>\n      <th>nom_9</th>\n      <th>ord_0</th>\n      <th>ord_1</th>\n      <th>ord_2</th>\n      <th>ord_3</th>\n      <th>ord_4</th>\n      <th>ord_5</th>\n      <th>day</th>\n      <th>month</th>\n      <th>target</th>\n    </tr>\n  </thead>\n  <tbody>\n    <tr>\n      <th>0</th>\n      <td>0</td>\n      <td>0.0</td>\n      <td>0.0</td>\n      <td>0.0</td>\n      <td>F</td>\n      <td>N</td>\n      <td>Red</td>\n      <td>Trapezoid</td>\n      <td>Hamster</td>\n      <td>Russia</td>\n      <td>...</td>\n      <td>02e7c8990</td>\n      <td>3.0</td>\n      <td>Contributor</td>\n      <td>3</td>\n      <td>c</td>\n      <td>U</td>\n      <td>Pw</td>\n      <td>6.0</td>\n      <td>3.0</td>\n      <td>0</td>\n    </tr>\n    <tr>\n      <th>1</th>\n      <td>1</td>\n      <td>1.0</td>\n      <td>1.0</td>\n      <td>0.0</td>\n      <td>F</td>\n      <td>Y</td>\n      <td>Red</td>\n      <td>Star</td>\n      <td>Axolotl</td>\n      <td>NaN</td>\n      <td>...</td>\n      <td>f37df64af</td>\n      <td>3.0</td>\n      <td>Grandmaster</td>\n      <td>6</td>\n      <td>e</td>\n      <td>X</td>\n      <td>pE</td>\n      <td>7.0</td>\n      <td>7.0</td>\n      <td>0</td>\n    </tr>\n    <tr>\n      <th>2</th>\n      <td>2</td>\n      <td>0.0</td>\n      <td>1.0</td>\n      <td>0.0</td>\n      <td>F</td>\n      <td>N</td>\n      <td>Red</td>\n      <td>NaN</td>\n      <td>Hamster</td>\n      <td>Canada</td>\n      <td>...</td>\n      <td>NaN</td>\n      <td>3.0</td>\n      <td>NaN</td>\n      <td>2</td>\n      <td>n</td>\n      <td>P</td>\n      <td>eN</td>\n      <td>5.0</td>\n      <td>9.0</td>\n      <td>0</td>\n    </tr>\n    <tr>\n      <th>3</th>\n      <td>3</td>\n      <td>NaN</td>\n      <td>0.0</td>\n      <td>0.0</td>\n      <td>F</td>\n      <td>N</td>\n      <td>Red</td>\n      <td>Circle</td>\n      <td>Hamster</td>\n      <td>Finland</td>\n      <td>...</td>\n      <td>f9d456e57</td>\n      <td>1.0</td>\n      <td>Novice</td>\n      <td>4</td>\n      <td>a</td>\n      <td>C</td>\n      <td>NaN</td>\n      <td>3.0</td>\n      <td>3.0</td>\n      <td>0</td>\n    </tr>\n    <tr>\n      <th>4</th>\n      <td>4</td>\n      <td>0.0</td>\n      <td>NaN</td>\n      <td>0.0</td>\n      <td>T</td>\n      <td>N</td>\n      <td>Red</td>\n      <td>Triangle</td>\n      <td>Hamster</td>\n      <td>Costa Rica</td>\n      <td>...</td>\n      <td>c5361037c</td>\n      <td>3.0</td>\n      <td>Grandmaster</td>\n      <td>1</td>\n      <td>h</td>\n      <td>C</td>\n      <td>OZ</td>\n      <td>5.0</td>\n      <td>12.0</td>\n      <td>0</td>\n    </tr>\n    <tr>\n      <th>...</th>\n      <td>...</td>\n      <td>...</td>\n      <td>...</td>\n      <td>...</td>\n      <td>...</td>\n      <td>...</td>\n      <td>...</td>\n      <td>...</td>\n      <td>...</td>\n      <td>...</td>\n      <td>...</td>\n      <td>...</td>\n      <td>...</td>\n      <td>...</td>\n      <td>...</td>\n      <td>...</td>\n      <td>...</td>\n      <td>...</td>\n      <td>...</td>\n      <td>...</td>\n      <td>...</td>\n    </tr>\n    <tr>\n      <th>599995</th>\n      <td>599995</td>\n      <td>0.0</td>\n      <td>1.0</td>\n      <td>0.0</td>\n      <td>T</td>\n      <td>N</td>\n      <td>Red</td>\n      <td>Polygon</td>\n      <td>Axolotl</td>\n      <td>India</td>\n      <td>...</td>\n      <td>015c63324</td>\n      <td>3.0</td>\n      <td>Novice</td>\n      <td>2</td>\n      <td>a</td>\n      <td>R</td>\n      <td>GZ</td>\n      <td>5.0</td>\n      <td>NaN</td>\n      <td>0</td>\n    </tr>\n    <tr>\n      <th>599996</th>\n      <td>599996</td>\n      <td>1.0</td>\n      <td>0.0</td>\n      <td>0.0</td>\n      <td>T</td>\n      <td>Y</td>\n      <td>Blue</td>\n      <td>Polygon</td>\n      <td>Dog</td>\n      <td>Costa Rica</td>\n      <td>...</td>\n      <td>a02ae6a63</td>\n      <td>2.0</td>\n      <td>Novice</td>\n      <td>0</td>\n      <td>n</td>\n      <td>N</td>\n      <td>sf</td>\n      <td>NaN</td>\n      <td>3.0</td>\n      <td>0</td>\n    </tr>\n    <tr>\n      <th>599997</th>\n      <td>599997</td>\n      <td>0.0</td>\n      <td>0.0</td>\n      <td>0.0</td>\n      <td>F</td>\n      <td>Y</td>\n      <td>Red</td>\n      <td>Circle</td>\n      <td>Axolotl</td>\n      <td>Russia</td>\n      <td>...</td>\n      <td>40f9610c1</td>\n      <td>2.0</td>\n      <td>Contributor</td>\n      <td>2</td>\n      <td>n</td>\n      <td>H</td>\n      <td>MV</td>\n      <td>7.0</td>\n      <td>5.0</td>\n      <td>0</td>\n    </tr>\n    <tr>\n      <th>599998</th>\n      <td>599998</td>\n      <td>1.0</td>\n      <td>1.0</td>\n      <td>0.0</td>\n      <td>F</td>\n      <td>Y</td>\n      <td>NaN</td>\n      <td>Polygon</td>\n      <td>Axolotl</td>\n      <td>NaN</td>\n      <td>...</td>\n      <td>c1a8374a0</td>\n      <td>1.0</td>\n      <td>Master</td>\n      <td>6</td>\n      <td>m</td>\n      <td>X</td>\n      <td>Ey</td>\n      <td>1.0</td>\n      <td>5.0</td>\n      <td>0</td>\n    </tr>\n    <tr>\n      <th>599999</th>\n      <td>599999</td>\n      <td>0.0</td>\n      <td>0.0</td>\n      <td>0.0</td>\n      <td>T</td>\n      <td>N</td>\n      <td>Blue</td>\n      <td>Triangle</td>\n      <td>Dog</td>\n      <td>Russia</td>\n      <td>...</td>\n      <td>e2aea7784</td>\n      <td>1.0</td>\n      <td>Contributor</td>\n      <td>0</td>\n      <td>b</td>\n      <td>O</td>\n      <td>uI</td>\n      <td>5.0</td>\n      <td>8.0</td>\n      <td>0</td>\n    </tr>\n  </tbody>\n</table>\n<p>600000 rows × 25 columns</p>\n</div>"
     },
     "metadata": {},
     "execution_count": 11
    }
   ],
   "source": [
    "df"
   ]
  },
  {
   "cell_type": "code",
   "execution_count": 12,
   "metadata": {},
   "outputs": [
    {
     "output_type": "stream",
     "name": "stdout",
     "text": [
      "72\n"
     ]
    }
   ],
   "source": [
    "import numpy as np\n",
    "# create our example feature matrix|\n",
    "example = np.array(\n",
    " [\n",
    " [0, 0, 1],\n",
    " [1, 0, 0],\n",
    " [1, 0, 1]\n",
    " ]\n",
    ")\n",
    "# print size in bytes\n",
    "print(example.nbytes)"
   ]
  },
  {
   "cell_type": "code",
   "execution_count": 13,
   "metadata": {},
   "outputs": [
    {
     "output_type": "stream",
     "name": "stdout",
     "text": [
      "32\n"
     ]
    }
   ],
   "source": [
    "import numpy as np\n",
    "from scipy import sparse\n",
    "# create our example feature matrix\n",
    "example = np.array(\n",
    " [\n",
    " [0, 0, 1],\n",
    " [1, 0, 0],\n",
    " [1, 0, 1]\n",
    " ]\n",
    ")\n",
    "# convert numpy array to sparse CSR matrix\n",
    "sparse_example = sparse.csr_matrix(example)\n",
    "# print size of this sparse matrix\n",
    "print(sparse_example.data.nbytes)"
   ]
  },
  {
   "cell_type": "code",
   "execution_count": 14,
   "metadata": {},
   "outputs": [
    {
     "output_type": "execute_result",
     "data": {
      "text/plain": [
       "array([1, 1, 1, 1])"
      ]
     },
     "metadata": {},
     "execution_count": 14
    }
   ],
   "source": [
    "sparse_example.data"
   ]
  },
  {
   "cell_type": "code",
   "execution_count": 15,
   "metadata": {},
   "outputs": [
    {
     "output_type": "stream",
     "name": "stdout",
     "text": [
      "64\n"
     ]
    }
   ],
   "source": [
    "print(\n",
    " sparse_example.data.nbytes +\n",
    " sparse_example.indptr.nbytes +\n",
    " sparse_example.indices.nbytes\n",
    ")"
   ]
  },
  {
   "cell_type": "code",
   "execution_count": 16,
   "metadata": {},
   "outputs": [
    {
     "output_type": "stream",
     "name": "stdout",
     "text": [
      "Size of dense array: 8000000000\n",
      "Size of sparse array: 399959040\n",
      "Full size of sparse array: 599978564\n"
     ]
    }
   ],
   "source": [
    "import numpy as np\n",
    "from scipy import sparse\n",
    "\n",
    "# number of rows\n",
    "n_rows = 10000\n",
    "# number of columns\n",
    "n_cols = 100000\n",
    "# create random binary matrix with only 5% values as 1s\n",
    "example = np.random.binomial(1, p=0.05, size=(n_rows, n_cols))\n",
    "# print size in bytes\n",
    "print(f\"Size of dense array: {example.nbytes}\")\n",
    "# convert numpy array to sparse CSR matrix\n",
    "sparse_example = sparse.csr_matrix(example)\n",
    "# print size of this sparse matrix\n",
    "print(f\"Size of sparse array: {sparse_example.data.nbytes}\")\n",
    "full_size = (\n",
    "    sparse_example.data.nbytes +\n",
    "    sparse_example.indptr.nbytes +\n",
    "    sparse_example.indices.nbytes\n",
    ")\n",
    "# print full size of this sparse matrix\n",
    "print(f\"Full size of sparse array: {full_size}\")"
   ]
  },
  {
   "cell_type": "code",
   "execution_count": 23,
   "metadata": {},
   "outputs": [
    {
     "output_type": "stream",
     "name": "stdout",
     "text": [
      "Size of dense array: 144\nSize of sparse array: 24\nFull size of sparse array: 52\n"
     ]
    }
   ],
   "source": [
    "import numpy as np\n",
    "from scipy import sparse\n",
    "# create binary matrix\n",
    "example = np.array(\n",
    " [\n",
    " [0, 0, 0, 0, 1, 0],\n",
    " [0, 1, 0, 0, 0, 0],\n",
    " [1, 0, 0, 0, 0, 0]\n",
    " ]\n",
    ")\n",
    "# print size in bytes\n",
    "print(f\"Size of dense array: {example.nbytes}\")\n",
    "# convert numpy array to sparse CSR matrix\n",
    "sparse_example = sparse.csr_matrix(example)\n",
    "# print size of this sparse matrix\n",
    "print(f\"Size of sparse array: {sparse_example.data.nbytes}\")\n",
    "full_size = (\n",
    " sparse_example.data.nbytes +\n",
    " sparse_example.indptr.nbytes +\n",
    " sparse_example.indices.nbytes\n",
    ")\n",
    "# print full size of this sparse matrix\n",
    "print(f\"Full size of sparse array: {full_size}\")"
   ]
  },
  {
   "cell_type": "code",
   "execution_count": 1,
   "metadata": {},
   "outputs": [
    {
     "output_type": "stream",
     "name": "stdout",
     "text": [
      "Size of dense array: 8000000000\n"
     ]
    }
   ],
   "source": [
    "# one hot encoding\n",
    "\n",
    "import numpy as np\n",
    "from sklearn import preprocessing\n",
    "# create random 1-d array with 1001 different categories (int)\n",
    "example = np.random.randint(1000, size=1000000)\n",
    "# initialize OneHotEncoder from scikit-learn\n",
    "# keep sparse = False to get dense array\n",
    "ohe = preprocessing.OneHotEncoder(sparse=False)\n",
    "# fit and transform data with dense one hot encoder\n",
    "ohe_example = ohe.fit_transform(example.reshape(-1, 1))\n",
    "# print size in bytes for dense array\n",
    "print(f\"Size of dense array: {ohe_example.nbytes}\")"
   ]
  },
  {
   "cell_type": "code",
   "execution_count": 2,
   "metadata": {},
   "outputs": [
    {
     "output_type": "stream",
     "name": "stdout",
     "text": [
      "Size of sparse array: 8000000\nFull size of sparse array: 16000004\n"
     ]
    }
   ],
   "source": [
    "# initialize OneHotEncoder from scikit-learn\n",
    "# keep sparse = True to get sparse array\n",
    "ohe = preprocessing.OneHotEncoder(sparse=True)\n",
    "# fit and transform data with sparse one-hot encoder\n",
    "ohe_example = ohe.fit_transform(example.reshape(-1, 1))\n",
    "# print size of this sparse matrix\n",
    "print(f\"Size of sparse array: {ohe_example.data.nbytes}\")\n",
    "full_size = (\n",
    " ohe_example.data.nbytes +\n",
    " ohe_example.indptr.nbytes + ohe_example.indices.nbytes\n",
    ")\n",
    "# print full size of this sparse matrix\n",
    "print(f\"Full size of sparse array: {full_size}\")"
   ]
  },
  {
   "cell_type": "code",
   "execution_count": 4,
   "metadata": {},
   "outputs": [],
   "source": [
    "import pandas as pd\n",
    "df = pd.read_csv('../input/cat_train.csv')"
   ]
  },
  {
   "cell_type": "code",
   "execution_count": 5,
   "metadata": {},
   "outputs": [
    {
     "output_type": "execute_result",
     "data": {
      "text/plain": [
       "(84790, 25)"
      ]
     },
     "metadata": {},
     "execution_count": 5
    }
   ],
   "source": [
    "df[df.ord_2 == 'Boiling Hot'].shape"
   ]
  },
  {
   "cell_type": "code",
   "execution_count": 22,
   "metadata": {},
   "outputs": [
    {
     "output_type": "execute_result",
     "data": {
      "text/plain": [
       "                   id                                                          \\\n",
       "                count           mean            std  min        25%       50%   \n",
       "ord_2                                                                           \n",
       "Boiling Hot   84790.0  299891.477438  173714.506689  8.0  149261.75  299970.5   \n",
       "Cold          97822.0  300512.945656  172862.766597  4.0  151027.75  300889.5   \n",
       "Freezing     142726.0  300567.658373  173135.092807  2.0  150644.25  301657.5   \n",
       "Hot           67508.0  299822.700910  173261.634724  0.0  149786.50  298714.5   \n",
       "Lava Hot      64840.0  300070.374383  173154.911655  3.0  149829.00  300262.0   \n",
       "Warm         124239.0  298839.072811  173188.612724  1.0  148780.50  297312.0   \n",
       "\n",
       "                                     bin_0            ... month        \\\n",
       "                   75%       max     count      mean  ...   75%   max   \n",
       "ord_2                                                 ...               \n",
       "Boiling Hot  451100.50  599999.0   82324.0  0.092002  ...   8.0  12.0   \n",
       "Cold         450030.25  599994.0   94946.0  0.092632  ...   8.0  12.0   \n",
       "Freezing     449854.75  599997.0  138468.0  0.091075  ...   8.0  12.0   \n",
       "Hot          450154.25  599980.0   65487.0  0.091606  ...   8.0  12.0   \n",
       "Lava Hot     449554.75  599988.0   62820.0  0.091961  ...   8.0  12.0   \n",
       "Warm         449342.00  599998.0  120487.0  0.093852  ...   8.0  12.0   \n",
       "\n",
       "               target                                               \n",
       "                count      mean       std  min  25%  50%  75%  max  \n",
       "ord_2                                                               \n",
       "Boiling Hot   84790.0  0.244003  0.429497  0.0  0.0  0.0  0.0  1.0  \n",
       "Cold          97822.0  0.152205  0.359221  0.0  0.0  0.0  0.0  1.0  \n",
       "Freezing     142726.0  0.132253  0.338767  0.0  0.0  0.0  0.0  1.0  \n",
       "Hot           67508.0  0.205176  0.403833  0.0  0.0  0.0  0.0  1.0  \n",
       "Lava Hot      64840.0  0.290762  0.454117  0.0  0.0  0.0  1.0  1.0  \n",
       "Warm         124239.0  0.175404  0.380314  0.0  0.0  0.0  0.0  1.0  \n",
       "\n",
       "[6 rows x 64 columns]"
      ],
      "text/html": "<div>\n<style scoped>\n    .dataframe tbody tr th:only-of-type {\n        vertical-align: middle;\n    }\n\n    .dataframe tbody tr th {\n        vertical-align: top;\n    }\n\n    .dataframe thead tr th {\n        text-align: left;\n    }\n\n    .dataframe thead tr:last-of-type th {\n        text-align: right;\n    }\n</style>\n<table border=\"1\" class=\"dataframe\">\n  <thead>\n    <tr>\n      <th></th>\n      <th colspan=\"8\" halign=\"left\">id</th>\n      <th colspan=\"2\" halign=\"left\">bin_0</th>\n      <th>...</th>\n      <th colspan=\"2\" halign=\"left\">month</th>\n      <th colspan=\"8\" halign=\"left\">target</th>\n    </tr>\n    <tr>\n      <th></th>\n      <th>count</th>\n      <th>mean</th>\n      <th>std</th>\n      <th>min</th>\n      <th>25%</th>\n      <th>50%</th>\n      <th>75%</th>\n      <th>max</th>\n      <th>count</th>\n      <th>mean</th>\n      <th>...</th>\n      <th>75%</th>\n      <th>max</th>\n      <th>count</th>\n      <th>mean</th>\n      <th>std</th>\n      <th>min</th>\n      <th>25%</th>\n      <th>50%</th>\n      <th>75%</th>\n      <th>max</th>\n    </tr>\n    <tr>\n      <th>ord_2</th>\n      <th></th>\n      <th></th>\n      <th></th>\n      <th></th>\n      <th></th>\n      <th></th>\n      <th></th>\n      <th></th>\n      <th></th>\n      <th></th>\n      <th></th>\n      <th></th>\n      <th></th>\n      <th></th>\n      <th></th>\n      <th></th>\n      <th></th>\n      <th></th>\n      <th></th>\n      <th></th>\n      <th></th>\n    </tr>\n  </thead>\n  <tbody>\n    <tr>\n      <th>Boiling Hot</th>\n      <td>84790.0</td>\n      <td>299891.477438</td>\n      <td>173714.506689</td>\n      <td>8.0</td>\n      <td>149261.75</td>\n      <td>299970.5</td>\n      <td>451100.50</td>\n      <td>599999.0</td>\n      <td>82324.0</td>\n      <td>0.092002</td>\n      <td>...</td>\n      <td>8.0</td>\n      <td>12.0</td>\n      <td>84790.0</td>\n      <td>0.244003</td>\n      <td>0.429497</td>\n      <td>0.0</td>\n      <td>0.0</td>\n      <td>0.0</td>\n      <td>0.0</td>\n      <td>1.0</td>\n    </tr>\n    <tr>\n      <th>Cold</th>\n      <td>97822.0</td>\n      <td>300512.945656</td>\n      <td>172862.766597</td>\n      <td>4.0</td>\n      <td>151027.75</td>\n      <td>300889.5</td>\n      <td>450030.25</td>\n      <td>599994.0</td>\n      <td>94946.0</td>\n      <td>0.092632</td>\n      <td>...</td>\n      <td>8.0</td>\n      <td>12.0</td>\n      <td>97822.0</td>\n      <td>0.152205</td>\n      <td>0.359221</td>\n      <td>0.0</td>\n      <td>0.0</td>\n      <td>0.0</td>\n      <td>0.0</td>\n      <td>1.0</td>\n    </tr>\n    <tr>\n      <th>Freezing</th>\n      <td>142726.0</td>\n      <td>300567.658373</td>\n      <td>173135.092807</td>\n      <td>2.0</td>\n      <td>150644.25</td>\n      <td>301657.5</td>\n      <td>449854.75</td>\n      <td>599997.0</td>\n      <td>138468.0</td>\n      <td>0.091075</td>\n      <td>...</td>\n      <td>8.0</td>\n      <td>12.0</td>\n      <td>142726.0</td>\n      <td>0.132253</td>\n      <td>0.338767</td>\n      <td>0.0</td>\n      <td>0.0</td>\n      <td>0.0</td>\n      <td>0.0</td>\n      <td>1.0</td>\n    </tr>\n    <tr>\n      <th>Hot</th>\n      <td>67508.0</td>\n      <td>299822.700910</td>\n      <td>173261.634724</td>\n      <td>0.0</td>\n      <td>149786.50</td>\n      <td>298714.5</td>\n      <td>450154.25</td>\n      <td>599980.0</td>\n      <td>65487.0</td>\n      <td>0.091606</td>\n      <td>...</td>\n      <td>8.0</td>\n      <td>12.0</td>\n      <td>67508.0</td>\n      <td>0.205176</td>\n      <td>0.403833</td>\n      <td>0.0</td>\n      <td>0.0</td>\n      <td>0.0</td>\n      <td>0.0</td>\n      <td>1.0</td>\n    </tr>\n    <tr>\n      <th>Lava Hot</th>\n      <td>64840.0</td>\n      <td>300070.374383</td>\n      <td>173154.911655</td>\n      <td>3.0</td>\n      <td>149829.00</td>\n      <td>300262.0</td>\n      <td>449554.75</td>\n      <td>599988.0</td>\n      <td>62820.0</td>\n      <td>0.091961</td>\n      <td>...</td>\n      <td>8.0</td>\n      <td>12.0</td>\n      <td>64840.0</td>\n      <td>0.290762</td>\n      <td>0.454117</td>\n      <td>0.0</td>\n      <td>0.0</td>\n      <td>0.0</td>\n      <td>1.0</td>\n      <td>1.0</td>\n    </tr>\n    <tr>\n      <th>Warm</th>\n      <td>124239.0</td>\n      <td>298839.072811</td>\n      <td>173188.612724</td>\n      <td>1.0</td>\n      <td>148780.50</td>\n      <td>297312.0</td>\n      <td>449342.00</td>\n      <td>599998.0</td>\n      <td>120487.0</td>\n      <td>0.093852</td>\n      <td>...</td>\n      <td>8.0</td>\n      <td>12.0</td>\n      <td>124239.0</td>\n      <td>0.175404</td>\n      <td>0.380314</td>\n      <td>0.0</td>\n      <td>0.0</td>\n      <td>0.0</td>\n      <td>0.0</td>\n      <td>1.0</td>\n    </tr>\n  </tbody>\n</table>\n<p>6 rows × 64 columns</p>\n</div>"
     },
     "metadata": {},
     "execution_count": 22
    }
   ],
   "source": [
    "df.groupby([\"ord_2\"]).describe()"
   ]
  },
  {
   "cell_type": "code",
   "execution_count": 6,
   "metadata": {},
   "outputs": [
    {
     "output_type": "execute_result",
     "data": {
      "text/plain": [
       "ord_2\n",
       "Boiling Hot     84790\n",
       "Cold            97822\n",
       "Freezing       142726\n",
       "Hot             67508\n",
       "Lava Hot        64840\n",
       "Warm           124239\n",
       "Name: id, dtype: int64"
      ]
     },
     "metadata": {},
     "execution_count": 6
    }
   ],
   "source": [
    "df.groupby([\"ord_2\"])[\"id\"].count()"
   ]
  },
  {
   "cell_type": "code",
   "execution_count": 8,
   "metadata": {},
   "outputs": [
    {
     "output_type": "execute_result",
     "data": {
      "text/plain": [
       "0          67508.0\n",
       "1         124239.0\n",
       "2         142726.0\n",
       "3          64840.0\n",
       "4          97822.0\n",
       "            ...   \n",
       "599995    142726.0\n",
       "599996     84790.0\n",
       "599997    142726.0\n",
       "599998    124239.0\n",
       "599999     84790.0\n",
       "Name: id, Length: 600000, dtype: float64"
      ]
     },
     "metadata": {},
     "execution_count": 8
    }
   ],
   "source": [
    " df.groupby([\"ord_2\"])[\"id\"].transform(\"count\")"
   ]
  },
  {
   "cell_type": "code",
   "execution_count": 24,
   "metadata": {},
   "outputs": [
    {
     "output_type": "execute_result",
     "data": {
      "text/plain": [
       "                              id                                       \\\n",
       "                           count           mean            std    min   \n",
       "ord_1       ord_2                                                       \n",
       "Contributor Boiling Hot  15634.0  299887.601573  173297.946279  111.0   \n",
       "            Cold         17734.0  300021.632401  172643.194371   54.0   \n",
       "            Freezing     26082.0  301469.535158  173596.901685   34.0   \n",
       "            Hot          12428.0  298635.722481  173384.158410    0.0   \n",
       "            Lava Hot     11919.0  298960.203541  173842.054795    9.0   \n",
       "            Warm         22774.0  298663.220559  172868.622096   41.0   \n",
       "Expert      Boiling Hot  19477.0  297982.208862  173704.409167   30.0   \n",
       "            Cold         22956.0  300974.182567  172718.360654    7.0   \n",
       "            Freezing     33249.0  299919.185449  172280.091669   32.0   \n",
       "            Hot          15792.0  299803.367085  173595.213216    5.0   \n",
       "            Lava Hot     15078.0  300136.953177  172114.370414   47.0   \n",
       "            Warm         28900.0  298802.060381  172978.878939   25.0   \n",
       "Grandmaster Boiling Hot  13623.0  302255.488072  174460.676293   19.0   \n",
       "            Cold         15464.0  301509.309816  173217.923624    4.0   \n",
       "            Freezing     22818.0  299752.294680  172883.681490   26.0   \n",
       "            Hot          10805.0  300451.269042  173322.696546  118.0   \n",
       "            Lava Hot     10363.0  301798.261025  173682.972550   31.0   \n",
       "            Warm         19899.0  297509.504196  173389.506177    1.0   \n",
       "Master      Boiling Hot  10800.0  300480.426204  173500.525542   33.0   \n",
       "            Cold         12364.0  296670.501375  173212.138363   63.0   \n",
       "            Freezing     18035.0  300073.884558  173914.882041   14.0   \n",
       "            Hot           8594.0  302826.721783  172843.462792   18.0   \n",
       "            Lava Hot      8209.0  297494.219637  172142.204730  128.0   \n",
       "            Warm         15734.0  298802.088979  174275.661662   56.0   \n",
       "Novice      Boiling Hot  22718.0  301061.816797  173615.079539    8.0   \n",
       "            Cold         26271.0  301457.569906  172722.793529   27.0   \n",
       "            Freezing     38233.0  301584.865457  173217.710735   12.0   \n",
       "            Hot          17850.0  298681.399832  173224.826051   10.0   \n",
       "            Lava Hot     17373.0  300760.566454  173533.705826    3.0   \n",
       "            Warm         33263.0  299967.631933  172982.664558   17.0   \n",
       "\n",
       "                                                                     bin_0  \\\n",
       "                               25%       50%        75%       max    count   \n",
       "ord_1       ord_2                                                            \n",
       "Contributor Boiling Hot  149703.50  302502.5  449738.25  599999.0  15167.0   \n",
       "            Cold         151129.00  299254.5  449769.50  599973.0  17216.0   \n",
       "            Freezing     152599.00  301730.5  450523.00  599997.0  25230.0   \n",
       "            Hot          148904.25  296054.5  450703.25  599940.0  12047.0   \n",
       "            Lava Hot     148247.50  298267.0  449661.00  599981.0  11550.0   \n",
       "            Warm         150065.50  296173.0  448677.50  599991.0  22065.0   \n",
       "Expert      Boiling Hot  148163.00  296739.0  449485.00  599979.0  18920.0   \n",
       "            Cold         150678.25  301592.5  450259.00  599983.0  22274.0   \n",
       "            Freezing     150975.00  301207.0  448427.00  599986.0  32264.0   \n",
       "            Hot          149458.75  297702.0  450181.25  599964.0  15346.0   \n",
       "            Lava Hot     151020.25  299376.5  446920.00  599958.0  14580.0   \n",
       "            Warm         148019.00  297434.0  449740.25  599944.0  28041.0   \n",
       "Grandmaster Boiling Hot  149977.00  304279.0  454320.00  599884.0  13233.0   \n",
       "            Cold         153267.75  301473.0  451899.50  599994.0  15041.0   \n",
       "            Freezing     150742.50  299489.5  448997.75  599972.0  22164.0   \n",
       "            Hot          152472.00  298667.0  451286.00  599949.0  10482.0   \n",
       "            Lava Hot     149150.50  305078.0  452221.50  599976.0  10038.0   \n",
       "            Warm         147037.00  294953.0  448380.00  599955.0  19284.0   \n",
       "Master      Boiling Hot  150732.00  299321.0  453685.00  599989.0  10466.0   \n",
       "            Cold         146272.75  294403.5  445283.75  599828.0  11979.0   \n",
       "            Freezing     148024.50  300547.0  452693.00  599948.0  17456.0   \n",
       "            Hot          152006.25  305442.5  451792.00  599980.0   8349.0   \n",
       "            Lava Hot     148643.00  294181.0  448467.00  599988.0   7981.0   \n",
       "            Warm         146507.00  297683.0  451507.50  599998.0  15245.0   \n",
       "Novice      Boiling Hot  150623.50  301441.0  451793.75  599996.0  22068.0   \n",
       "            Cold         151865.50  303512.0  450860.50  599951.0  25499.0   \n",
       "            Freezing     151561.00  304020.0  450139.00  599995.0  37152.0   \n",
       "            Hot          147682.00  297636.0  447953.25  599977.0  17286.0   \n",
       "            Lava Hot     150865.00  303251.0  449906.00  599916.0  16838.0   \n",
       "            Warm         151180.00  299397.0  449126.00  599987.0  32270.0   \n",
       "\n",
       "                                   ... month         target            \\\n",
       "                             mean  ...   75%   max    count      mean   \n",
       "ord_1       ord_2                  ...                                  \n",
       "Contributor Boiling Hot  0.093624  ...   8.0  12.0  15634.0  0.225918   \n",
       "            Cold         0.094970  ...   8.0  12.0  17734.0  0.138153   \n",
       "            Freezing     0.092905  ...   8.0  12.0  26082.0  0.123495   \n",
       "            Hot          0.089400  ...   8.0  12.0  12428.0  0.185871   \n",
       "            Lava Hot     0.091082  ...   8.0  12.0  11919.0  0.274939   \n",
       "            Warm         0.092409  ...   8.0  12.0  22774.0  0.159831   \n",
       "Expert      Boiling Hot  0.090328  ...   8.0  12.0  19477.0  0.250039   \n",
       "            Cold         0.089432  ...   8.0  12.0  22956.0  0.155951   \n",
       "            Freezing     0.092208  ...   8.0  12.0  33249.0  0.132756   \n",
       "            Hot          0.094617  ...   8.0  12.0  15792.0  0.208777   \n",
       "            Lava Hot     0.095953  ...   8.0  12.0  15078.0  0.291020   \n",
       "            Warm         0.094255  ...   8.0  12.0  28900.0  0.179100   \n",
       "Grandmaster Boiling Hot  0.092345  ...   8.0  12.0  13623.0  0.293621   \n",
       "            Cold         0.095938  ...   8.0  12.0  15464.0  0.191800   \n",
       "            Freezing     0.092086  ...   8.0  12.0  22818.0  0.168814   \n",
       "            Hot          0.089201  ...   8.0  12.0  10805.0  0.250810   \n",
       "            Lava Hot     0.087567  ...   9.0  12.0  10363.0  0.354048   \n",
       "            Warm         0.093030  ...   8.0  12.0  19899.0  0.221267   \n",
       "Master      Boiling Hot  0.091343  ...   8.0  12.0  10800.0  0.276667   \n",
       "            Cold         0.089740  ...   8.0  12.0  12364.0  0.178907   \n",
       "            Freezing     0.091659  ...   8.0  12.0  18035.0  0.148655   \n",
       "            Hot          0.092227  ...   9.0  12.0   8594.0  0.231324   \n",
       "            Lava Hot     0.089838  ...   8.0  12.0   8209.0  0.315264   \n",
       "            Warm         0.095048  ...   8.0  12.0  15734.0  0.201093   \n",
       "Novice      Boiling Hot  0.092442  ...   8.0  12.0  22718.0  0.205520   \n",
       "            Cold         0.093259  ...   8.0  12.0  26271.0  0.122949   \n",
       "            Freezing     0.088071  ...   8.0  12.0  38233.0  0.108231   \n",
       "            Hot          0.090709  ...   8.0  12.0  17850.0  0.175574   \n",
       "            Lava Hot     0.093004  ...   8.0  12.0  17373.0  0.252403   \n",
       "            Warm         0.093802  ...   8.0  12.0  33263.0  0.142922   \n",
       "\n",
       "                                                            \n",
       "                              std  min  25%  50%  75%  max  \n",
       "ord_1       ord_2                                           \n",
       "Contributor Boiling Hot  0.418199  0.0  0.0  0.0  0.0  1.0  \n",
       "            Cold         0.345070  0.0  0.0  0.0  0.0  1.0  \n",
       "            Freezing     0.329011  0.0  0.0  0.0  0.0  1.0  \n",
       "            Hot          0.389018  0.0  0.0  0.0  0.0  1.0  \n",
       "            Lava Hot     0.446502  0.0  0.0  0.0  1.0  1.0  \n",
       "            Warm         0.366458  0.0  0.0  0.0  0.0  1.0  \n",
       "Expert      Boiling Hot  0.433046  0.0  0.0  0.0  1.0  1.0  \n",
       "            Cold         0.362816  0.0  0.0  0.0  0.0  1.0  \n",
       "            Freezing     0.339316  0.0  0.0  0.0  0.0  1.0  \n",
       "            Hot          0.406447  0.0  0.0  0.0  0.0  1.0  \n",
       "            Lava Hot     0.454248  0.0  0.0  0.0  1.0  1.0  \n",
       "            Warm         0.383443  0.0  0.0  0.0  0.0  1.0  \n",
       "Grandmaster Boiling Hot  0.455437  0.0  0.0  0.0  1.0  1.0  \n",
       "            Cold         0.393730  0.0  0.0  0.0  0.0  1.0  \n",
       "            Freezing     0.374596  0.0  0.0  0.0  0.0  1.0  \n",
       "            Hot          0.433499  0.0  0.0  0.0  1.0  1.0  \n",
       "            Lava Hot     0.478247  0.0  0.0  0.0  1.0  1.0  \n",
       "            Warm         0.415111  0.0  0.0  0.0  0.0  1.0  \n",
       "Master      Boiling Hot  0.447371  0.0  0.0  0.0  1.0  1.0  \n",
       "            Cold         0.383290  0.0  0.0  0.0  0.0  1.0  \n",
       "            Freezing     0.355758  0.0  0.0  0.0  0.0  1.0  \n",
       "            Hot          0.421704  0.0  0.0  0.0  0.0  1.0  \n",
       "            Lava Hot     0.464649  0.0  0.0  0.0  1.0  1.0  \n",
       "            Warm         0.400830  0.0  0.0  0.0  0.0  1.0  \n",
       "Novice      Boiling Hot  0.404090  0.0  0.0  0.0  0.0  1.0  \n",
       "            Cold         0.328385  0.0  0.0  0.0  0.0  1.0  \n",
       "            Freezing     0.310676  0.0  0.0  0.0  0.0  1.0  \n",
       "            Hot          0.380468  0.0  0.0  0.0  0.0  1.0  \n",
       "            Lava Hot     0.434404  0.0  0.0  0.0  1.0  1.0  \n",
       "            Warm         0.349998  0.0  0.0  0.0  0.0  1.0  \n",
       "\n",
       "[30 rows x 64 columns]"
      ],
      "text/html": "<div>\n<style scoped>\n    .dataframe tbody tr th:only-of-type {\n        vertical-align: middle;\n    }\n\n    .dataframe tbody tr th {\n        vertical-align: top;\n    }\n\n    .dataframe thead tr th {\n        text-align: left;\n    }\n\n    .dataframe thead tr:last-of-type th {\n        text-align: right;\n    }\n</style>\n<table border=\"1\" class=\"dataframe\">\n  <thead>\n    <tr>\n      <th></th>\n      <th></th>\n      <th colspan=\"8\" halign=\"left\">id</th>\n      <th colspan=\"2\" halign=\"left\">bin_0</th>\n      <th>...</th>\n      <th colspan=\"2\" halign=\"left\">month</th>\n      <th colspan=\"8\" halign=\"left\">target</th>\n    </tr>\n    <tr>\n      <th></th>\n      <th></th>\n      <th>count</th>\n      <th>mean</th>\n      <th>std</th>\n      <th>min</th>\n      <th>25%</th>\n      <th>50%</th>\n      <th>75%</th>\n      <th>max</th>\n      <th>count</th>\n      <th>mean</th>\n      <th>...</th>\n      <th>75%</th>\n      <th>max</th>\n      <th>count</th>\n      <th>mean</th>\n      <th>std</th>\n      <th>min</th>\n      <th>25%</th>\n      <th>50%</th>\n      <th>75%</th>\n      <th>max</th>\n    </tr>\n    <tr>\n      <th>ord_1</th>\n      <th>ord_2</th>\n      <th></th>\n      <th></th>\n      <th></th>\n      <th></th>\n      <th></th>\n      <th></th>\n      <th></th>\n      <th></th>\n      <th></th>\n      <th></th>\n      <th></th>\n      <th></th>\n      <th></th>\n      <th></th>\n      <th></th>\n      <th></th>\n      <th></th>\n      <th></th>\n      <th></th>\n      <th></th>\n      <th></th>\n    </tr>\n  </thead>\n  <tbody>\n    <tr>\n      <th rowspan=\"6\" valign=\"top\">Contributor</th>\n      <th>Boiling Hot</th>\n      <td>15634.0</td>\n      <td>299887.601573</td>\n      <td>173297.946279</td>\n      <td>111.0</td>\n      <td>149703.50</td>\n      <td>302502.5</td>\n      <td>449738.25</td>\n      <td>599999.0</td>\n      <td>15167.0</td>\n      <td>0.093624</td>\n      <td>...</td>\n      <td>8.0</td>\n      <td>12.0</td>\n      <td>15634.0</td>\n      <td>0.225918</td>\n      <td>0.418199</td>\n      <td>0.0</td>\n      <td>0.0</td>\n      <td>0.0</td>\n      <td>0.0</td>\n      <td>1.0</td>\n    </tr>\n    <tr>\n      <th>Cold</th>\n      <td>17734.0</td>\n      <td>300021.632401</td>\n      <td>172643.194371</td>\n      <td>54.0</td>\n      <td>151129.00</td>\n      <td>299254.5</td>\n      <td>449769.50</td>\n      <td>599973.0</td>\n      <td>17216.0</td>\n      <td>0.094970</td>\n      <td>...</td>\n      <td>8.0</td>\n      <td>12.0</td>\n      <td>17734.0</td>\n      <td>0.138153</td>\n      <td>0.345070</td>\n      <td>0.0</td>\n      <td>0.0</td>\n      <td>0.0</td>\n      <td>0.0</td>\n      <td>1.0</td>\n    </tr>\n    <tr>\n      <th>Freezing</th>\n      <td>26082.0</td>\n      <td>301469.535158</td>\n      <td>173596.901685</td>\n      <td>34.0</td>\n      <td>152599.00</td>\n      <td>301730.5</td>\n      <td>450523.00</td>\n      <td>599997.0</td>\n      <td>25230.0</td>\n      <td>0.092905</td>\n      <td>...</td>\n      <td>8.0</td>\n      <td>12.0</td>\n      <td>26082.0</td>\n      <td>0.123495</td>\n      <td>0.329011</td>\n      <td>0.0</td>\n      <td>0.0</td>\n      <td>0.0</td>\n      <td>0.0</td>\n      <td>1.0</td>\n    </tr>\n    <tr>\n      <th>Hot</th>\n      <td>12428.0</td>\n      <td>298635.722481</td>\n      <td>173384.158410</td>\n      <td>0.0</td>\n      <td>148904.25</td>\n      <td>296054.5</td>\n      <td>450703.25</td>\n      <td>599940.0</td>\n      <td>12047.0</td>\n      <td>0.089400</td>\n      <td>...</td>\n      <td>8.0</td>\n      <td>12.0</td>\n      <td>12428.0</td>\n      <td>0.185871</td>\n      <td>0.389018</td>\n      <td>0.0</td>\n      <td>0.0</td>\n      <td>0.0</td>\n      <td>0.0</td>\n      <td>1.0</td>\n    </tr>\n    <tr>\n      <th>Lava Hot</th>\n      <td>11919.0</td>\n      <td>298960.203541</td>\n      <td>173842.054795</td>\n      <td>9.0</td>\n      <td>148247.50</td>\n      <td>298267.0</td>\n      <td>449661.00</td>\n      <td>599981.0</td>\n      <td>11550.0</td>\n      <td>0.091082</td>\n      <td>...</td>\n      <td>8.0</td>\n      <td>12.0</td>\n      <td>11919.0</td>\n      <td>0.274939</td>\n      <td>0.446502</td>\n      <td>0.0</td>\n      <td>0.0</td>\n      <td>0.0</td>\n      <td>1.0</td>\n      <td>1.0</td>\n    </tr>\n    <tr>\n      <th>Warm</th>\n      <td>22774.0</td>\n      <td>298663.220559</td>\n      <td>172868.622096</td>\n      <td>41.0</td>\n      <td>150065.50</td>\n      <td>296173.0</td>\n      <td>448677.50</td>\n      <td>599991.0</td>\n      <td>22065.0</td>\n      <td>0.092409</td>\n      <td>...</td>\n      <td>8.0</td>\n      <td>12.0</td>\n      <td>22774.0</td>\n      <td>0.159831</td>\n      <td>0.366458</td>\n      <td>0.0</td>\n      <td>0.0</td>\n      <td>0.0</td>\n      <td>0.0</td>\n      <td>1.0</td>\n    </tr>\n    <tr>\n      <th rowspan=\"6\" valign=\"top\">Expert</th>\n      <th>Boiling Hot</th>\n      <td>19477.0</td>\n      <td>297982.208862</td>\n      <td>173704.409167</td>\n      <td>30.0</td>\n      <td>148163.00</td>\n      <td>296739.0</td>\n      <td>449485.00</td>\n      <td>599979.0</td>\n      <td>18920.0</td>\n      <td>0.090328</td>\n      <td>...</td>\n      <td>8.0</td>\n      <td>12.0</td>\n      <td>19477.0</td>\n      <td>0.250039</td>\n      <td>0.433046</td>\n      <td>0.0</td>\n      <td>0.0</td>\n      <td>0.0</td>\n      <td>1.0</td>\n      <td>1.0</td>\n    </tr>\n    <tr>\n      <th>Cold</th>\n      <td>22956.0</td>\n      <td>300974.182567</td>\n      <td>172718.360654</td>\n      <td>7.0</td>\n      <td>150678.25</td>\n      <td>301592.5</td>\n      <td>450259.00</td>\n      <td>599983.0</td>\n      <td>22274.0</td>\n      <td>0.089432</td>\n      <td>...</td>\n      <td>8.0</td>\n      <td>12.0</td>\n      <td>22956.0</td>\n      <td>0.155951</td>\n      <td>0.362816</td>\n      <td>0.0</td>\n      <td>0.0</td>\n      <td>0.0</td>\n      <td>0.0</td>\n      <td>1.0</td>\n    </tr>\n    <tr>\n      <th>Freezing</th>\n      <td>33249.0</td>\n      <td>299919.185449</td>\n      <td>172280.091669</td>\n      <td>32.0</td>\n      <td>150975.00</td>\n      <td>301207.0</td>\n      <td>448427.00</td>\n      <td>599986.0</td>\n      <td>32264.0</td>\n      <td>0.092208</td>\n      <td>...</td>\n      <td>8.0</td>\n      <td>12.0</td>\n      <td>33249.0</td>\n      <td>0.132756</td>\n      <td>0.339316</td>\n      <td>0.0</td>\n      <td>0.0</td>\n      <td>0.0</td>\n      <td>0.0</td>\n      <td>1.0</td>\n    </tr>\n    <tr>\n      <th>Hot</th>\n      <td>15792.0</td>\n      <td>299803.367085</td>\n      <td>173595.213216</td>\n      <td>5.0</td>\n      <td>149458.75</td>\n      <td>297702.0</td>\n      <td>450181.25</td>\n      <td>599964.0</td>\n      <td>15346.0</td>\n      <td>0.094617</td>\n      <td>...</td>\n      <td>8.0</td>\n      <td>12.0</td>\n      <td>15792.0</td>\n      <td>0.208777</td>\n      <td>0.406447</td>\n      <td>0.0</td>\n      <td>0.0</td>\n      <td>0.0</td>\n      <td>0.0</td>\n      <td>1.0</td>\n    </tr>\n    <tr>\n      <th>Lava Hot</th>\n      <td>15078.0</td>\n      <td>300136.953177</td>\n      <td>172114.370414</td>\n      <td>47.0</td>\n      <td>151020.25</td>\n      <td>299376.5</td>\n      <td>446920.00</td>\n      <td>599958.0</td>\n      <td>14580.0</td>\n      <td>0.095953</td>\n      <td>...</td>\n      <td>8.0</td>\n      <td>12.0</td>\n      <td>15078.0</td>\n      <td>0.291020</td>\n      <td>0.454248</td>\n      <td>0.0</td>\n      <td>0.0</td>\n      <td>0.0</td>\n      <td>1.0</td>\n      <td>1.0</td>\n    </tr>\n    <tr>\n      <th>Warm</th>\n      <td>28900.0</td>\n      <td>298802.060381</td>\n      <td>172978.878939</td>\n      <td>25.0</td>\n      <td>148019.00</td>\n      <td>297434.0</td>\n      <td>449740.25</td>\n      <td>599944.0</td>\n      <td>28041.0</td>\n      <td>0.094255</td>\n      <td>...</td>\n      <td>8.0</td>\n      <td>12.0</td>\n      <td>28900.0</td>\n      <td>0.179100</td>\n      <td>0.383443</td>\n      <td>0.0</td>\n      <td>0.0</td>\n      <td>0.0</td>\n      <td>0.0</td>\n      <td>1.0</td>\n    </tr>\n    <tr>\n      <th rowspan=\"6\" valign=\"top\">Grandmaster</th>\n      <th>Boiling Hot</th>\n      <td>13623.0</td>\n      <td>302255.488072</td>\n      <td>174460.676293</td>\n      <td>19.0</td>\n      <td>149977.00</td>\n      <td>304279.0</td>\n      <td>454320.00</td>\n      <td>599884.0</td>\n      <td>13233.0</td>\n      <td>0.092345</td>\n      <td>...</td>\n      <td>8.0</td>\n      <td>12.0</td>\n      <td>13623.0</td>\n      <td>0.293621</td>\n      <td>0.455437</td>\n      <td>0.0</td>\n      <td>0.0</td>\n      <td>0.0</td>\n      <td>1.0</td>\n      <td>1.0</td>\n    </tr>\n    <tr>\n      <th>Cold</th>\n      <td>15464.0</td>\n      <td>301509.309816</td>\n      <td>173217.923624</td>\n      <td>4.0</td>\n      <td>153267.75</td>\n      <td>301473.0</td>\n      <td>451899.50</td>\n      <td>599994.0</td>\n      <td>15041.0</td>\n      <td>0.095938</td>\n      <td>...</td>\n      <td>8.0</td>\n      <td>12.0</td>\n      <td>15464.0</td>\n      <td>0.191800</td>\n      <td>0.393730</td>\n      <td>0.0</td>\n      <td>0.0</td>\n      <td>0.0</td>\n      <td>0.0</td>\n      <td>1.0</td>\n    </tr>\n    <tr>\n      <th>Freezing</th>\n      <td>22818.0</td>\n      <td>299752.294680</td>\n      <td>172883.681490</td>\n      <td>26.0</td>\n      <td>150742.50</td>\n      <td>299489.5</td>\n      <td>448997.75</td>\n      <td>599972.0</td>\n      <td>22164.0</td>\n      <td>0.092086</td>\n      <td>...</td>\n      <td>8.0</td>\n      <td>12.0</td>\n      <td>22818.0</td>\n      <td>0.168814</td>\n      <td>0.374596</td>\n      <td>0.0</td>\n      <td>0.0</td>\n      <td>0.0</td>\n      <td>0.0</td>\n      <td>1.0</td>\n    </tr>\n    <tr>\n      <th>Hot</th>\n      <td>10805.0</td>\n      <td>300451.269042</td>\n      <td>173322.696546</td>\n      <td>118.0</td>\n      <td>152472.00</td>\n      <td>298667.0</td>\n      <td>451286.00</td>\n      <td>599949.0</td>\n      <td>10482.0</td>\n      <td>0.089201</td>\n      <td>...</td>\n      <td>8.0</td>\n      <td>12.0</td>\n      <td>10805.0</td>\n      <td>0.250810</td>\n      <td>0.433499</td>\n      <td>0.0</td>\n      <td>0.0</td>\n      <td>0.0</td>\n      <td>1.0</td>\n      <td>1.0</td>\n    </tr>\n    <tr>\n      <th>Lava Hot</th>\n      <td>10363.0</td>\n      <td>301798.261025</td>\n      <td>173682.972550</td>\n      <td>31.0</td>\n      <td>149150.50</td>\n      <td>305078.0</td>\n      <td>452221.50</td>\n      <td>599976.0</td>\n      <td>10038.0</td>\n      <td>0.087567</td>\n      <td>...</td>\n      <td>9.0</td>\n      <td>12.0</td>\n      <td>10363.0</td>\n      <td>0.354048</td>\n      <td>0.478247</td>\n      <td>0.0</td>\n      <td>0.0</td>\n      <td>0.0</td>\n      <td>1.0</td>\n      <td>1.0</td>\n    </tr>\n    <tr>\n      <th>Warm</th>\n      <td>19899.0</td>\n      <td>297509.504196</td>\n      <td>173389.506177</td>\n      <td>1.0</td>\n      <td>147037.00</td>\n      <td>294953.0</td>\n      <td>448380.00</td>\n      <td>599955.0</td>\n      <td>19284.0</td>\n      <td>0.093030</td>\n      <td>...</td>\n      <td>8.0</td>\n      <td>12.0</td>\n      <td>19899.0</td>\n      <td>0.221267</td>\n      <td>0.415111</td>\n      <td>0.0</td>\n      <td>0.0</td>\n      <td>0.0</td>\n      <td>0.0</td>\n      <td>1.0</td>\n    </tr>\n    <tr>\n      <th rowspan=\"6\" valign=\"top\">Master</th>\n      <th>Boiling Hot</th>\n      <td>10800.0</td>\n      <td>300480.426204</td>\n      <td>173500.525542</td>\n      <td>33.0</td>\n      <td>150732.00</td>\n      <td>299321.0</td>\n      <td>453685.00</td>\n      <td>599989.0</td>\n      <td>10466.0</td>\n      <td>0.091343</td>\n      <td>...</td>\n      <td>8.0</td>\n      <td>12.0</td>\n      <td>10800.0</td>\n      <td>0.276667</td>\n      <td>0.447371</td>\n      <td>0.0</td>\n      <td>0.0</td>\n      <td>0.0</td>\n      <td>1.0</td>\n      <td>1.0</td>\n    </tr>\n    <tr>\n      <th>Cold</th>\n      <td>12364.0</td>\n      <td>296670.501375</td>\n      <td>173212.138363</td>\n      <td>63.0</td>\n      <td>146272.75</td>\n      <td>294403.5</td>\n      <td>445283.75</td>\n      <td>599828.0</td>\n      <td>11979.0</td>\n      <td>0.089740</td>\n      <td>...</td>\n      <td>8.0</td>\n      <td>12.0</td>\n      <td>12364.0</td>\n      <td>0.178907</td>\n      <td>0.383290</td>\n      <td>0.0</td>\n      <td>0.0</td>\n      <td>0.0</td>\n      <td>0.0</td>\n      <td>1.0</td>\n    </tr>\n    <tr>\n      <th>Freezing</th>\n      <td>18035.0</td>\n      <td>300073.884558</td>\n      <td>173914.882041</td>\n      <td>14.0</td>\n      <td>148024.50</td>\n      <td>300547.0</td>\n      <td>452693.00</td>\n      <td>599948.0</td>\n      <td>17456.0</td>\n      <td>0.091659</td>\n      <td>...</td>\n      <td>8.0</td>\n      <td>12.0</td>\n      <td>18035.0</td>\n      <td>0.148655</td>\n      <td>0.355758</td>\n      <td>0.0</td>\n      <td>0.0</td>\n      <td>0.0</td>\n      <td>0.0</td>\n      <td>1.0</td>\n    </tr>\n    <tr>\n      <th>Hot</th>\n      <td>8594.0</td>\n      <td>302826.721783</td>\n      <td>172843.462792</td>\n      <td>18.0</td>\n      <td>152006.25</td>\n      <td>305442.5</td>\n      <td>451792.00</td>\n      <td>599980.0</td>\n      <td>8349.0</td>\n      <td>0.092227</td>\n      <td>...</td>\n      <td>9.0</td>\n      <td>12.0</td>\n      <td>8594.0</td>\n      <td>0.231324</td>\n      <td>0.421704</td>\n      <td>0.0</td>\n      <td>0.0</td>\n      <td>0.0</td>\n      <td>0.0</td>\n      <td>1.0</td>\n    </tr>\n    <tr>\n      <th>Lava Hot</th>\n      <td>8209.0</td>\n      <td>297494.219637</td>\n      <td>172142.204730</td>\n      <td>128.0</td>\n      <td>148643.00</td>\n      <td>294181.0</td>\n      <td>448467.00</td>\n      <td>599988.0</td>\n      <td>7981.0</td>\n      <td>0.089838</td>\n      <td>...</td>\n      <td>8.0</td>\n      <td>12.0</td>\n      <td>8209.0</td>\n      <td>0.315264</td>\n      <td>0.464649</td>\n      <td>0.0</td>\n      <td>0.0</td>\n      <td>0.0</td>\n      <td>1.0</td>\n      <td>1.0</td>\n    </tr>\n    <tr>\n      <th>Warm</th>\n      <td>15734.0</td>\n      <td>298802.088979</td>\n      <td>174275.661662</td>\n      <td>56.0</td>\n      <td>146507.00</td>\n      <td>297683.0</td>\n      <td>451507.50</td>\n      <td>599998.0</td>\n      <td>15245.0</td>\n      <td>0.095048</td>\n      <td>...</td>\n      <td>8.0</td>\n      <td>12.0</td>\n      <td>15734.0</td>\n      <td>0.201093</td>\n      <td>0.400830</td>\n      <td>0.0</td>\n      <td>0.0</td>\n      <td>0.0</td>\n      <td>0.0</td>\n      <td>1.0</td>\n    </tr>\n    <tr>\n      <th rowspan=\"6\" valign=\"top\">Novice</th>\n      <th>Boiling Hot</th>\n      <td>22718.0</td>\n      <td>301061.816797</td>\n      <td>173615.079539</td>\n      <td>8.0</td>\n      <td>150623.50</td>\n      <td>301441.0</td>\n      <td>451793.75</td>\n      <td>599996.0</td>\n      <td>22068.0</td>\n      <td>0.092442</td>\n      <td>...</td>\n      <td>8.0</td>\n      <td>12.0</td>\n      <td>22718.0</td>\n      <td>0.205520</td>\n      <td>0.404090</td>\n      <td>0.0</td>\n      <td>0.0</td>\n      <td>0.0</td>\n      <td>0.0</td>\n      <td>1.0</td>\n    </tr>\n    <tr>\n      <th>Cold</th>\n      <td>26271.0</td>\n      <td>301457.569906</td>\n      <td>172722.793529</td>\n      <td>27.0</td>\n      <td>151865.50</td>\n      <td>303512.0</td>\n      <td>450860.50</td>\n      <td>599951.0</td>\n      <td>25499.0</td>\n      <td>0.093259</td>\n      <td>...</td>\n      <td>8.0</td>\n      <td>12.0</td>\n      <td>26271.0</td>\n      <td>0.122949</td>\n      <td>0.328385</td>\n      <td>0.0</td>\n      <td>0.0</td>\n      <td>0.0</td>\n      <td>0.0</td>\n      <td>1.0</td>\n    </tr>\n    <tr>\n      <th>Freezing</th>\n      <td>38233.0</td>\n      <td>301584.865457</td>\n      <td>173217.710735</td>\n      <td>12.0</td>\n      <td>151561.00</td>\n      <td>304020.0</td>\n      <td>450139.00</td>\n      <td>599995.0</td>\n      <td>37152.0</td>\n      <td>0.088071</td>\n      <td>...</td>\n      <td>8.0</td>\n      <td>12.0</td>\n      <td>38233.0</td>\n      <td>0.108231</td>\n      <td>0.310676</td>\n      <td>0.0</td>\n      <td>0.0</td>\n      <td>0.0</td>\n      <td>0.0</td>\n      <td>1.0</td>\n    </tr>\n    <tr>\n      <th>Hot</th>\n      <td>17850.0</td>\n      <td>298681.399832</td>\n      <td>173224.826051</td>\n      <td>10.0</td>\n      <td>147682.00</td>\n      <td>297636.0</td>\n      <td>447953.25</td>\n      <td>599977.0</td>\n      <td>17286.0</td>\n      <td>0.090709</td>\n      <td>...</td>\n      <td>8.0</td>\n      <td>12.0</td>\n      <td>17850.0</td>\n      <td>0.175574</td>\n      <td>0.380468</td>\n      <td>0.0</td>\n      <td>0.0</td>\n      <td>0.0</td>\n      <td>0.0</td>\n      <td>1.0</td>\n    </tr>\n    <tr>\n      <th>Lava Hot</th>\n      <td>17373.0</td>\n      <td>300760.566454</td>\n      <td>173533.705826</td>\n      <td>3.0</td>\n      <td>150865.00</td>\n      <td>303251.0</td>\n      <td>449906.00</td>\n      <td>599916.0</td>\n      <td>16838.0</td>\n      <td>0.093004</td>\n      <td>...</td>\n      <td>8.0</td>\n      <td>12.0</td>\n      <td>17373.0</td>\n      <td>0.252403</td>\n      <td>0.434404</td>\n      <td>0.0</td>\n      <td>0.0</td>\n      <td>0.0</td>\n      <td>1.0</td>\n      <td>1.0</td>\n    </tr>\n    <tr>\n      <th>Warm</th>\n      <td>33263.0</td>\n      <td>299967.631933</td>\n      <td>172982.664558</td>\n      <td>17.0</td>\n      <td>151180.00</td>\n      <td>299397.0</td>\n      <td>449126.00</td>\n      <td>599987.0</td>\n      <td>32270.0</td>\n      <td>0.093802</td>\n      <td>...</td>\n      <td>8.0</td>\n      <td>12.0</td>\n      <td>33263.0</td>\n      <td>0.142922</td>\n      <td>0.349998</td>\n      <td>0.0</td>\n      <td>0.0</td>\n      <td>0.0</td>\n      <td>0.0</td>\n      <td>1.0</td>\n    </tr>\n  </tbody>\n</table>\n<p>30 rows × 64 columns</p>\n</div>"
     },
     "metadata": {},
     "execution_count": 24
    }
   ],
   "source": [
    "df.groupby(['ord_1', 'ord_2']).describe()"
   ]
  },
  {
   "cell_type": "code",
   "execution_count": 23,
   "metadata": {},
   "outputs": [
    {
     "output_type": "execute_result",
     "data": {
      "text/plain": [
       "          ord_1        ord_2  count\n",
       "0   Contributor  Boiling Hot  15634\n",
       "1   Contributor         Cold  17734\n",
       "2   Contributor     Freezing  26082\n",
       "3   Contributor          Hot  12428\n",
       "4   Contributor     Lava Hot  11919\n",
       "5   Contributor         Warm  22774\n",
       "6        Expert  Boiling Hot  19477\n",
       "7        Expert         Cold  22956\n",
       "8        Expert     Freezing  33249\n",
       "9        Expert          Hot  15792\n",
       "10       Expert     Lava Hot  15078\n",
       "11       Expert         Warm  28900\n",
       "12  Grandmaster  Boiling Hot  13623\n",
       "13  Grandmaster         Cold  15464\n",
       "14  Grandmaster     Freezing  22818\n",
       "15  Grandmaster          Hot  10805\n",
       "16  Grandmaster     Lava Hot  10363\n",
       "17  Grandmaster         Warm  19899\n",
       "18       Master  Boiling Hot  10800\n",
       "19       Master         Cold  12364\n",
       "20       Master     Freezing  18035\n",
       "21       Master          Hot   8594\n",
       "22       Master     Lava Hot   8209\n",
       "23       Master         Warm  15734\n",
       "24       Novice  Boiling Hot  22718\n",
       "25       Novice         Cold  26271\n",
       "26       Novice     Freezing  38233\n",
       "27       Novice          Hot  17850\n",
       "28       Novice     Lava Hot  17373\n",
       "29       Novice         Warm  33263"
      ],
      "text/html": "<div>\n<style scoped>\n    .dataframe tbody tr th:only-of-type {\n        vertical-align: middle;\n    }\n\n    .dataframe tbody tr th {\n        vertical-align: top;\n    }\n\n    .dataframe thead th {\n        text-align: right;\n    }\n</style>\n<table border=\"1\" class=\"dataframe\">\n  <thead>\n    <tr style=\"text-align: right;\">\n      <th></th>\n      <th>ord_1</th>\n      <th>ord_2</th>\n      <th>count</th>\n    </tr>\n  </thead>\n  <tbody>\n    <tr>\n      <th>0</th>\n      <td>Contributor</td>\n      <td>Boiling Hot</td>\n      <td>15634</td>\n    </tr>\n    <tr>\n      <th>1</th>\n      <td>Contributor</td>\n      <td>Cold</td>\n      <td>17734</td>\n    </tr>\n    <tr>\n      <th>2</th>\n      <td>Contributor</td>\n      <td>Freezing</td>\n      <td>26082</td>\n    </tr>\n    <tr>\n      <th>3</th>\n      <td>Contributor</td>\n      <td>Hot</td>\n      <td>12428</td>\n    </tr>\n    <tr>\n      <th>4</th>\n      <td>Contributor</td>\n      <td>Lava Hot</td>\n      <td>11919</td>\n    </tr>\n    <tr>\n      <th>5</th>\n      <td>Contributor</td>\n      <td>Warm</td>\n      <td>22774</td>\n    </tr>\n    <tr>\n      <th>6</th>\n      <td>Expert</td>\n      <td>Boiling Hot</td>\n      <td>19477</td>\n    </tr>\n    <tr>\n      <th>7</th>\n      <td>Expert</td>\n      <td>Cold</td>\n      <td>22956</td>\n    </tr>\n    <tr>\n      <th>8</th>\n      <td>Expert</td>\n      <td>Freezing</td>\n      <td>33249</td>\n    </tr>\n    <tr>\n      <th>9</th>\n      <td>Expert</td>\n      <td>Hot</td>\n      <td>15792</td>\n    </tr>\n    <tr>\n      <th>10</th>\n      <td>Expert</td>\n      <td>Lava Hot</td>\n      <td>15078</td>\n    </tr>\n    <tr>\n      <th>11</th>\n      <td>Expert</td>\n      <td>Warm</td>\n      <td>28900</td>\n    </tr>\n    <tr>\n      <th>12</th>\n      <td>Grandmaster</td>\n      <td>Boiling Hot</td>\n      <td>13623</td>\n    </tr>\n    <tr>\n      <th>13</th>\n      <td>Grandmaster</td>\n      <td>Cold</td>\n      <td>15464</td>\n    </tr>\n    <tr>\n      <th>14</th>\n      <td>Grandmaster</td>\n      <td>Freezing</td>\n      <td>22818</td>\n    </tr>\n    <tr>\n      <th>15</th>\n      <td>Grandmaster</td>\n      <td>Hot</td>\n      <td>10805</td>\n    </tr>\n    <tr>\n      <th>16</th>\n      <td>Grandmaster</td>\n      <td>Lava Hot</td>\n      <td>10363</td>\n    </tr>\n    <tr>\n      <th>17</th>\n      <td>Grandmaster</td>\n      <td>Warm</td>\n      <td>19899</td>\n    </tr>\n    <tr>\n      <th>18</th>\n      <td>Master</td>\n      <td>Boiling Hot</td>\n      <td>10800</td>\n    </tr>\n    <tr>\n      <th>19</th>\n      <td>Master</td>\n      <td>Cold</td>\n      <td>12364</td>\n    </tr>\n    <tr>\n      <th>20</th>\n      <td>Master</td>\n      <td>Freezing</td>\n      <td>18035</td>\n    </tr>\n    <tr>\n      <th>21</th>\n      <td>Master</td>\n      <td>Hot</td>\n      <td>8594</td>\n    </tr>\n    <tr>\n      <th>22</th>\n      <td>Master</td>\n      <td>Lava Hot</td>\n      <td>8209</td>\n    </tr>\n    <tr>\n      <th>23</th>\n      <td>Master</td>\n      <td>Warm</td>\n      <td>15734</td>\n    </tr>\n    <tr>\n      <th>24</th>\n      <td>Novice</td>\n      <td>Boiling Hot</td>\n      <td>22718</td>\n    </tr>\n    <tr>\n      <th>25</th>\n      <td>Novice</td>\n      <td>Cold</td>\n      <td>26271</td>\n    </tr>\n    <tr>\n      <th>26</th>\n      <td>Novice</td>\n      <td>Freezing</td>\n      <td>38233</td>\n    </tr>\n    <tr>\n      <th>27</th>\n      <td>Novice</td>\n      <td>Hot</td>\n      <td>17850</td>\n    </tr>\n    <tr>\n      <th>28</th>\n      <td>Novice</td>\n      <td>Lava Hot</td>\n      <td>17373</td>\n    </tr>\n    <tr>\n      <th>29</th>\n      <td>Novice</td>\n      <td>Warm</td>\n      <td>33263</td>\n    </tr>\n  </tbody>\n</table>\n</div>"
     },
     "metadata": {},
     "execution_count": 23
    }
   ],
   "source": [
    "df.groupby(['ord_1', 'ord_2'])['id'].count().reset_index(name='count')"
   ]
  },
  {
   "cell_type": "code",
   "execution_count": 25,
   "metadata": {},
   "outputs": [],
   "source": [
    "df['new_feature'] = (df.ord_1.astype(str)+'_'+df.ord_2.astype(str))"
   ]
  },
  {
   "cell_type": "code",
   "execution_count": 26,
   "metadata": {},
   "outputs": [
    {
     "output_type": "execute_result",
     "data": {
      "text/plain": [
       "0                 Contributor_Hot\n",
       "1                Grandmaster_Warm\n",
       "2                    nan_Freezing\n",
       "3                 Novice_Lava Hot\n",
       "4                Grandmaster_Cold\n",
       "                   ...           \n",
       "599995            Novice_Freezing\n",
       "599996         Novice_Boiling Hot\n",
       "599997       Contributor_Freezing\n",
       "599998                Master_Warm\n",
       "599999    Contributor_Boiling Hot\n",
       "Name: new_feature, Length: 600000, dtype: object"
      ]
     },
     "metadata": {},
     "execution_count": 26
    }
   ],
   "source": [
    "df.new_feature"
   ]
  },
  {
   "cell_type": "code",
   "execution_count": 27,
   "metadata": {},
   "outputs": [],
   "source": [
    "df['new_feature'] = (df.ord_1.astype(str)+'_'+df.ord_2.astype(str)+'_'+df.ord_3.astype(str))"
   ]
  },
  {
   "cell_type": "code",
   "execution_count": 28,
   "metadata": {},
   "outputs": [
    {
     "output_type": "execute_result",
     "data": {
      "text/plain": [
       "0                 Contributor_Hot_c\n",
       "1                Grandmaster_Warm_e\n",
       "2                    nan_Freezing_n\n",
       "3                 Novice_Lava Hot_a\n",
       "4                Grandmaster_Cold_h\n",
       "                    ...            \n",
       "599995            Novice_Freezing_a\n",
       "599996         Novice_Boiling Hot_n\n",
       "599997       Contributor_Freezing_n\n",
       "599998                Master_Warm_m\n",
       "599999    Contributor_Boiling Hot_b\n",
       "Name: new_feature, Length: 600000, dtype: object"
      ]
     },
     "metadata": {},
     "execution_count": 28
    }
   ],
   "source": [
    "df.new_feature"
   ]
  },
  {
   "cell_type": "code",
   "execution_count": 29,
   "metadata": {},
   "outputs": [
    {
     "output_type": "execute_result",
     "data": {
      "text/plain": [
       "Freezing       142726\n",
       "Warm           124239\n",
       "Cold            97822\n",
       "Boiling Hot     84790\n",
       "Hot             67508\n",
       "Lava Hot        64840\n",
       "Name: ord_2, dtype: int64"
      ]
     },
     "metadata": {},
     "execution_count": 29
    }
   ],
   "source": [
    "df.ord_2.value_counts()"
   ]
  },
  {
   "cell_type": "code",
   "execution_count": 30,
   "metadata": {},
   "outputs": [
    {
     "output_type": "execute_result",
     "data": {
      "text/plain": [
       "Freezing       142726\n",
       "Warm           124239\n",
       "Cold            97822\n",
       "Boiling Hot     84790\n",
       "Hot             67508\n",
       "Lava Hot        64840\n",
       "NONE            18075\n",
       "Name: ord_2, dtype: int64"
      ]
     },
     "metadata": {},
     "execution_count": 30
    }
   ],
   "source": [
    "df.ord_2.fillna(\"NONE\").value_counts()"
   ]
  },
  {
   "cell_type": "code",
   "execution_count": 35,
   "metadata": {},
   "outputs": [],
   "source": [
    "import pandas as pd\n",
    "from sklearn import preprocessing\n",
    "# read training data\n",
    "train = pd.read_csv(\"../input/cat_train.csv\")\n",
    "#read test data\n",
    "test = pd.read_csv(\"../input/cat_test.csv\")\n",
    "# create a fake target column for test data\n",
    "# since this column doesn't exist\n",
    "test.loc[:, \"target\"] = -1\n",
    "# concatenate both training and test data\n",
    "data = pd.concat([train, test]).reset_index(drop=True)"
   ]
  },
  {
   "cell_type": "code",
   "execution_count": 40,
   "metadata": {},
   "outputs": [
    {
     "output_type": "execute_result",
     "data": {
      "text/plain": [
       "((600000, 25), (400000, 25), (1000000, 25))"
      ]
     },
     "metadata": {},
     "execution_count": 40
    }
   ],
   "source": [
    "train.shape, test.shape, data.shape"
   ]
  },
  {
   "cell_type": "code",
   "execution_count": 41,
   "metadata": {},
   "outputs": [],
   "source": [
    "# make a list of features we are interested in\n",
    "# id and target is something we should not encode\n",
    "features = [x for x in train.columns if x not in [\"id\", \"target\"]]\n",
    "# loop over the features list\n",
    "for feat in features:\n",
    "    # create a new instance of LabelEncoder for each feature\n",
    "    lbl_enc = preprocessing.LabelEncoder()\n",
    "\n",
    "    # note the trick here\n",
    "    # since its categorical data, we fillna with a string\n",
    "    # and we convert all the data to string type\n",
    "    # so, no matter its int or float, its converted to string\n",
    "    # int/float but categorical!!!\n",
    "    temp_col = data[feat].fillna(\"NONE\").astype(str).values\n",
    "    # we can use fit_transform here as we do not\n",
    "    # have any extra test data that we need to\n",
    "    # transform on separately\n",
    "    data.loc[:, feat] = lbl_enc.fit_transform(temp_col)\n",
    "\n",
    "# split the training and test data again\n",
    "train = data[data.target != -1].reset_index(drop=True)\n",
    "test = data[data.target == -1].reset_index(drop=True)\n"
   ]
  },
  {
   "cell_type": "code",
   "execution_count": 42,
   "metadata": {},
   "outputs": [
    {
     "output_type": "execute_result",
     "data": {
      "text/plain": [
       "((600000, 25), (400000, 25))"
      ]
     },
     "metadata": {},
     "execution_count": 42
    }
   ],
   "source": [
    "train.shape, test.shape"
   ]
  },
  {
   "cell_type": "code",
   "execution_count": 43,
   "metadata": {},
   "outputs": [
    {
     "output_type": "execute_result",
     "data": {
      "text/plain": [
       "N       39978\n",
       "P       37890\n",
       "Y       36657\n",
       "A       36633\n",
       "R       33045\n",
       "U       32897\n",
       "M       32504\n",
       "X       32347\n",
       "C       32112\n",
       "H       31189\n",
       "Q       30145\n",
       "T       29723\n",
       "O       25610\n",
       "B       25212\n",
       "E       21871\n",
       "K       21676\n",
       "I       19805\n",
       "NONE    17930\n",
       "D       17284\n",
       "F       16721\n",
       "W        8268\n",
       "Z        5790\n",
       "S        4595\n",
       "G        3404\n",
       "V        3107\n",
       "J        1950\n",
       "L        1657\n",
       "Name: ord_4, dtype: int64"
      ]
     },
     "metadata": {},
     "execution_count": 43
    }
   ],
   "source": [
    "df.ord_4.fillna(\"NONE\").value_counts()"
   ]
  },
  {
   "cell_type": "code",
   "execution_count": 46,
   "metadata": {},
   "outputs": [],
   "source": [
    "df.ord_4 = df.ord_4.fillna(\"NONE\")\n",
    "df.loc[df[\"ord_4\"].value_counts()[df[\"ord_4\"]].values < 2000, 'ord_4'] = \"RARE\""
   ]
  },
  {
   "cell_type": "code",
   "execution_count": 47,
   "metadata": {},
   "outputs": [
    {
     "output_type": "execute_result",
     "data": {
      "text/plain": [
       "N       39978\n",
       "P       37890\n",
       "Y       36657\n",
       "A       36633\n",
       "R       33045\n",
       "U       32897\n",
       "M       32504\n",
       "X       32347\n",
       "C       32112\n",
       "H       31189\n",
       "Q       30145\n",
       "T       29723\n",
       "O       25610\n",
       "B       25212\n",
       "E       21871\n",
       "K       21676\n",
       "I       19805\n",
       "NONE    17930\n",
       "D       17284\n",
       "F       16721\n",
       "W        8268\n",
       "Z        5790\n",
       "S        4595\n",
       "RARE     3607\n",
       "G        3404\n",
       "V        3107\n",
       "Name: ord_4, dtype: int64"
      ]
     },
     "metadata": {},
     "execution_count": 47
    }
   ],
   "source": [
    "df.ord_4.value_counts()"
   ]
  },
  {
   "cell_type": "code",
   "execution_count": 48,
   "metadata": {},
   "outputs": [],
   "source": [
    "# create_folds.py\n",
    "# import pandas and model_selection module of scikit-learn\n",
    "import pandas as pd\n",
    "from sklearn import model_selection\n",
    "\n",
    "# Read training data\n",
    "df = pd.read_csv(\"../input/cat_train.csv\")\n",
    "# we create a new column called kfold and fill it with -1\n",
    "df[\"kfold\"] = -1\n",
    "\n",
    "# the next step is to randomize the rows of the data\n",
    "df = df.sample(frac=1).reset_index(drop=True)\n",
    "\n",
    "# fetch labels\n",
    "y = df.target.values"
   ]
  },
  {
   "cell_type": "code",
   "execution_count": 50,
   "metadata": {},
   "outputs": [
    {
     "output_type": "execute_result",
     "data": {
      "text/plain": [
       "            id  bin_0  bin_1  bin_2 bin_3 bin_4  nom_0      nom_1    nom_2  \\\n",
       "0        94359    0.0    0.0    0.0     F     Y    Red   Triangle  Axolotl   \n",
       "1       442906    0.0    0.0    0.0     F     N    Red   Triangle  Axolotl   \n",
       "2       258632    0.0    0.0    0.0     F     Y    Red     Circle     Lion   \n",
       "3       566609    0.0    0.0    0.0     F     N   Blue   Triangle     Lion   \n",
       "4       427263    NaN    0.0    0.0     F     Y   Blue     Square      Dog   \n",
       "...        ...    ...    ...    ...   ...   ...    ...        ...      ...   \n",
       "599995  336782    0.0    0.0    0.0     F     Y   Blue   Triangle     Lion   \n",
       "599996   31099    0.0    0.0    1.0     F     N   Blue     Circle  Axolotl   \n",
       "599997   87504    0.0    0.0    0.0     F     Y  Green  Trapezoid  Hamster   \n",
       "599998  181930    1.0    1.0    0.0     F     N   Blue    Polygon  Hamster   \n",
       "599999  309963    0.0    0.0    0.0     T     Y   Blue   Triangle      Cat   \n",
       "\n",
       "             nom_3  ... ord_0        ord_1        ord_2 ord_3 ord_4 ord_5  \\\n",
       "0            India  ...   2.0       Master          Hot     i     A    YJ   \n",
       "1            India  ...   2.0  Contributor         Warm     m     P    Dj   \n",
       "2              NaN  ...   1.0       Novice          Hot     k     K    oU   \n",
       "3            India  ...   3.0       Novice         Warm     n     Z    lA   \n",
       "4       Costa Rica  ...   1.0  Grandmaster          NaN   NaN     H   NaN   \n",
       "...            ...  ...   ...          ...          ...   ...   ...   ...   \n",
       "599995      Russia  ...   NaN  Contributor  Boiling Hot     n   NaN    Fl   \n",
       "599996      Russia  ...   1.0       Expert         Warm     i     K    DT   \n",
       "599997       India  ...   1.0       Expert          Hot     n     I    ly   \n",
       "599998  Costa Rica  ...   2.0       Master         Warm     b     I    jf   \n",
       "599999  Costa Rica  ...   2.0  Grandmaster     Freezing     k     T    kv   \n",
       "\n",
       "        day month target kfold  \n",
       "0       6.0   2.0      0    -1  \n",
       "1       5.0   5.0      0    -1  \n",
       "2       3.0   6.0      0    -1  \n",
       "3       7.0   3.0      1    -1  \n",
       "4       2.0  12.0      0    -1  \n",
       "...     ...   ...    ...   ...  \n",
       "599995  7.0   8.0      1    -1  \n",
       "599996  7.0   5.0      0    -1  \n",
       "599997  7.0   3.0      0    -1  \n",
       "599998  5.0   8.0      1    -1  \n",
       "599999  3.0  11.0      0    -1  \n",
       "\n",
       "[600000 rows x 26 columns]"
      ],
      "text/html": "<div>\n<style scoped>\n    .dataframe tbody tr th:only-of-type {\n        vertical-align: middle;\n    }\n\n    .dataframe tbody tr th {\n        vertical-align: top;\n    }\n\n    .dataframe thead th {\n        text-align: right;\n    }\n</style>\n<table border=\"1\" class=\"dataframe\">\n  <thead>\n    <tr style=\"text-align: right;\">\n      <th></th>\n      <th>id</th>\n      <th>bin_0</th>\n      <th>bin_1</th>\n      <th>bin_2</th>\n      <th>bin_3</th>\n      <th>bin_4</th>\n      <th>nom_0</th>\n      <th>nom_1</th>\n      <th>nom_2</th>\n      <th>nom_3</th>\n      <th>...</th>\n      <th>ord_0</th>\n      <th>ord_1</th>\n      <th>ord_2</th>\n      <th>ord_3</th>\n      <th>ord_4</th>\n      <th>ord_5</th>\n      <th>day</th>\n      <th>month</th>\n      <th>target</th>\n      <th>kfold</th>\n    </tr>\n  </thead>\n  <tbody>\n    <tr>\n      <th>0</th>\n      <td>94359</td>\n      <td>0.0</td>\n      <td>0.0</td>\n      <td>0.0</td>\n      <td>F</td>\n      <td>Y</td>\n      <td>Red</td>\n      <td>Triangle</td>\n      <td>Axolotl</td>\n      <td>India</td>\n      <td>...</td>\n      <td>2.0</td>\n      <td>Master</td>\n      <td>Hot</td>\n      <td>i</td>\n      <td>A</td>\n      <td>YJ</td>\n      <td>6.0</td>\n      <td>2.0</td>\n      <td>0</td>\n      <td>-1</td>\n    </tr>\n    <tr>\n      <th>1</th>\n      <td>442906</td>\n      <td>0.0</td>\n      <td>0.0</td>\n      <td>0.0</td>\n      <td>F</td>\n      <td>N</td>\n      <td>Red</td>\n      <td>Triangle</td>\n      <td>Axolotl</td>\n      <td>India</td>\n      <td>...</td>\n      <td>2.0</td>\n      <td>Contributor</td>\n      <td>Warm</td>\n      <td>m</td>\n      <td>P</td>\n      <td>Dj</td>\n      <td>5.0</td>\n      <td>5.0</td>\n      <td>0</td>\n      <td>-1</td>\n    </tr>\n    <tr>\n      <th>2</th>\n      <td>258632</td>\n      <td>0.0</td>\n      <td>0.0</td>\n      <td>0.0</td>\n      <td>F</td>\n      <td>Y</td>\n      <td>Red</td>\n      <td>Circle</td>\n      <td>Lion</td>\n      <td>NaN</td>\n      <td>...</td>\n      <td>1.0</td>\n      <td>Novice</td>\n      <td>Hot</td>\n      <td>k</td>\n      <td>K</td>\n      <td>oU</td>\n      <td>3.0</td>\n      <td>6.0</td>\n      <td>0</td>\n      <td>-1</td>\n    </tr>\n    <tr>\n      <th>3</th>\n      <td>566609</td>\n      <td>0.0</td>\n      <td>0.0</td>\n      <td>0.0</td>\n      <td>F</td>\n      <td>N</td>\n      <td>Blue</td>\n      <td>Triangle</td>\n      <td>Lion</td>\n      <td>India</td>\n      <td>...</td>\n      <td>3.0</td>\n      <td>Novice</td>\n      <td>Warm</td>\n      <td>n</td>\n      <td>Z</td>\n      <td>lA</td>\n      <td>7.0</td>\n      <td>3.0</td>\n      <td>1</td>\n      <td>-1</td>\n    </tr>\n    <tr>\n      <th>4</th>\n      <td>427263</td>\n      <td>NaN</td>\n      <td>0.0</td>\n      <td>0.0</td>\n      <td>F</td>\n      <td>Y</td>\n      <td>Blue</td>\n      <td>Square</td>\n      <td>Dog</td>\n      <td>Costa Rica</td>\n      <td>...</td>\n      <td>1.0</td>\n      <td>Grandmaster</td>\n      <td>NaN</td>\n      <td>NaN</td>\n      <td>H</td>\n      <td>NaN</td>\n      <td>2.0</td>\n      <td>12.0</td>\n      <td>0</td>\n      <td>-1</td>\n    </tr>\n    <tr>\n      <th>...</th>\n      <td>...</td>\n      <td>...</td>\n      <td>...</td>\n      <td>...</td>\n      <td>...</td>\n      <td>...</td>\n      <td>...</td>\n      <td>...</td>\n      <td>...</td>\n      <td>...</td>\n      <td>...</td>\n      <td>...</td>\n      <td>...</td>\n      <td>...</td>\n      <td>...</td>\n      <td>...</td>\n      <td>...</td>\n      <td>...</td>\n      <td>...</td>\n      <td>...</td>\n      <td>...</td>\n    </tr>\n    <tr>\n      <th>599995</th>\n      <td>336782</td>\n      <td>0.0</td>\n      <td>0.0</td>\n      <td>0.0</td>\n      <td>F</td>\n      <td>Y</td>\n      <td>Blue</td>\n      <td>Triangle</td>\n      <td>Lion</td>\n      <td>Russia</td>\n      <td>...</td>\n      <td>NaN</td>\n      <td>Contributor</td>\n      <td>Boiling Hot</td>\n      <td>n</td>\n      <td>NaN</td>\n      <td>Fl</td>\n      <td>7.0</td>\n      <td>8.0</td>\n      <td>1</td>\n      <td>-1</td>\n    </tr>\n    <tr>\n      <th>599996</th>\n      <td>31099</td>\n      <td>0.0</td>\n      <td>0.0</td>\n      <td>1.0</td>\n      <td>F</td>\n      <td>N</td>\n      <td>Blue</td>\n      <td>Circle</td>\n      <td>Axolotl</td>\n      <td>Russia</td>\n      <td>...</td>\n      <td>1.0</td>\n      <td>Expert</td>\n      <td>Warm</td>\n      <td>i</td>\n      <td>K</td>\n      <td>DT</td>\n      <td>7.0</td>\n      <td>5.0</td>\n      <td>0</td>\n      <td>-1</td>\n    </tr>\n    <tr>\n      <th>599997</th>\n      <td>87504</td>\n      <td>0.0</td>\n      <td>0.0</td>\n      <td>0.0</td>\n      <td>F</td>\n      <td>Y</td>\n      <td>Green</td>\n      <td>Trapezoid</td>\n      <td>Hamster</td>\n      <td>India</td>\n      <td>...</td>\n      <td>1.0</td>\n      <td>Expert</td>\n      <td>Hot</td>\n      <td>n</td>\n      <td>I</td>\n      <td>ly</td>\n      <td>7.0</td>\n      <td>3.0</td>\n      <td>0</td>\n      <td>-1</td>\n    </tr>\n    <tr>\n      <th>599998</th>\n      <td>181930</td>\n      <td>1.0</td>\n      <td>1.0</td>\n      <td>0.0</td>\n      <td>F</td>\n      <td>N</td>\n      <td>Blue</td>\n      <td>Polygon</td>\n      <td>Hamster</td>\n      <td>Costa Rica</td>\n      <td>...</td>\n      <td>2.0</td>\n      <td>Master</td>\n      <td>Warm</td>\n      <td>b</td>\n      <td>I</td>\n      <td>jf</td>\n      <td>5.0</td>\n      <td>8.0</td>\n      <td>1</td>\n      <td>-1</td>\n    </tr>\n    <tr>\n      <th>599999</th>\n      <td>309963</td>\n      <td>0.0</td>\n      <td>0.0</td>\n      <td>0.0</td>\n      <td>T</td>\n      <td>Y</td>\n      <td>Blue</td>\n      <td>Triangle</td>\n      <td>Cat</td>\n      <td>Costa Rica</td>\n      <td>...</td>\n      <td>2.0</td>\n      <td>Grandmaster</td>\n      <td>Freezing</td>\n      <td>k</td>\n      <td>T</td>\n      <td>kv</td>\n      <td>3.0</td>\n      <td>11.0</td>\n      <td>0</td>\n      <td>-1</td>\n    </tr>\n  </tbody>\n</table>\n<p>600000 rows × 26 columns</p>\n</div>"
     },
     "metadata": {},
     "execution_count": 50
    }
   ],
   "source": [
    "df"
   ]
  },
  {
   "cell_type": "code",
   "execution_count": 51,
   "metadata": {},
   "outputs": [],
   "source": [
    "# initiate the kfold class from model_selection module\n",
    "kf = model_selection.StratifiedKFold(n_splits=5)\n",
    "\n",
    "# fill the new kfold column\n",
    "for f, (t_, v_) in enumerate(kf.split(X=df, y=y)):\n",
    "    df.loc[v_, 'kfold'] = f"
   ]
  },
  {
   "cell_type": "code",
   "execution_count": 52,
   "metadata": {},
   "outputs": [
    {
     "output_type": "execute_result",
     "data": {
      "text/plain": [
       "            id  bin_0  bin_1  bin_2 bin_3 bin_4  nom_0      nom_1    nom_2  \\\n",
       "0        94359    0.0    0.0    0.0     F     Y    Red   Triangle  Axolotl   \n",
       "1       442906    0.0    0.0    0.0     F     N    Red   Triangle  Axolotl   \n",
       "2       258632    0.0    0.0    0.0     F     Y    Red     Circle     Lion   \n",
       "3       566609    0.0    0.0    0.0     F     N   Blue   Triangle     Lion   \n",
       "4       427263    NaN    0.0    0.0     F     Y   Blue     Square      Dog   \n",
       "...        ...    ...    ...    ...   ...   ...    ...        ...      ...   \n",
       "599995  336782    0.0    0.0    0.0     F     Y   Blue   Triangle     Lion   \n",
       "599996   31099    0.0    0.0    1.0     F     N   Blue     Circle  Axolotl   \n",
       "599997   87504    0.0    0.0    0.0     F     Y  Green  Trapezoid  Hamster   \n",
       "599998  181930    1.0    1.0    0.0     F     N   Blue    Polygon  Hamster   \n",
       "599999  309963    0.0    0.0    0.0     T     Y   Blue   Triangle      Cat   \n",
       "\n",
       "             nom_3  ... ord_0        ord_1        ord_2 ord_3 ord_4 ord_5  \\\n",
       "0            India  ...   2.0       Master          Hot     i     A    YJ   \n",
       "1            India  ...   2.0  Contributor         Warm     m     P    Dj   \n",
       "2              NaN  ...   1.0       Novice          Hot     k     K    oU   \n",
       "3            India  ...   3.0       Novice         Warm     n     Z    lA   \n",
       "4       Costa Rica  ...   1.0  Grandmaster          NaN   NaN     H   NaN   \n",
       "...            ...  ...   ...          ...          ...   ...   ...   ...   \n",
       "599995      Russia  ...   NaN  Contributor  Boiling Hot     n   NaN    Fl   \n",
       "599996      Russia  ...   1.0       Expert         Warm     i     K    DT   \n",
       "599997       India  ...   1.0       Expert          Hot     n     I    ly   \n",
       "599998  Costa Rica  ...   2.0       Master         Warm     b     I    jf   \n",
       "599999  Costa Rica  ...   2.0  Grandmaster     Freezing     k     T    kv   \n",
       "\n",
       "        day month target kfold  \n",
       "0       6.0   2.0      0     0  \n",
       "1       5.0   5.0      0     0  \n",
       "2       3.0   6.0      0     0  \n",
       "3       7.0   3.0      1     0  \n",
       "4       2.0  12.0      0     0  \n",
       "...     ...   ...    ...   ...  \n",
       "599995  7.0   8.0      1     4  \n",
       "599996  7.0   5.0      0     4  \n",
       "599997  7.0   3.0      0     4  \n",
       "599998  5.0   8.0      1     4  \n",
       "599999  3.0  11.0      0     4  \n",
       "\n",
       "[600000 rows x 26 columns]"
      ],
      "text/html": "<div>\n<style scoped>\n    .dataframe tbody tr th:only-of-type {\n        vertical-align: middle;\n    }\n\n    .dataframe tbody tr th {\n        vertical-align: top;\n    }\n\n    .dataframe thead th {\n        text-align: right;\n    }\n</style>\n<table border=\"1\" class=\"dataframe\">\n  <thead>\n    <tr style=\"text-align: right;\">\n      <th></th>\n      <th>id</th>\n      <th>bin_0</th>\n      <th>bin_1</th>\n      <th>bin_2</th>\n      <th>bin_3</th>\n      <th>bin_4</th>\n      <th>nom_0</th>\n      <th>nom_1</th>\n      <th>nom_2</th>\n      <th>nom_3</th>\n      <th>...</th>\n      <th>ord_0</th>\n      <th>ord_1</th>\n      <th>ord_2</th>\n      <th>ord_3</th>\n      <th>ord_4</th>\n      <th>ord_5</th>\n      <th>day</th>\n      <th>month</th>\n      <th>target</th>\n      <th>kfold</th>\n    </tr>\n  </thead>\n  <tbody>\n    <tr>\n      <th>0</th>\n      <td>94359</td>\n      <td>0.0</td>\n      <td>0.0</td>\n      <td>0.0</td>\n      <td>F</td>\n      <td>Y</td>\n      <td>Red</td>\n      <td>Triangle</td>\n      <td>Axolotl</td>\n      <td>India</td>\n      <td>...</td>\n      <td>2.0</td>\n      <td>Master</td>\n      <td>Hot</td>\n      <td>i</td>\n      <td>A</td>\n      <td>YJ</td>\n      <td>6.0</td>\n      <td>2.0</td>\n      <td>0</td>\n      <td>0</td>\n    </tr>\n    <tr>\n      <th>1</th>\n      <td>442906</td>\n      <td>0.0</td>\n      <td>0.0</td>\n      <td>0.0</td>\n      <td>F</td>\n      <td>N</td>\n      <td>Red</td>\n      <td>Triangle</td>\n      <td>Axolotl</td>\n      <td>India</td>\n      <td>...</td>\n      <td>2.0</td>\n      <td>Contributor</td>\n      <td>Warm</td>\n      <td>m</td>\n      <td>P</td>\n      <td>Dj</td>\n      <td>5.0</td>\n      <td>5.0</td>\n      <td>0</td>\n      <td>0</td>\n    </tr>\n    <tr>\n      <th>2</th>\n      <td>258632</td>\n      <td>0.0</td>\n      <td>0.0</td>\n      <td>0.0</td>\n      <td>F</td>\n      <td>Y</td>\n      <td>Red</td>\n      <td>Circle</td>\n      <td>Lion</td>\n      <td>NaN</td>\n      <td>...</td>\n      <td>1.0</td>\n      <td>Novice</td>\n      <td>Hot</td>\n      <td>k</td>\n      <td>K</td>\n      <td>oU</td>\n      <td>3.0</td>\n      <td>6.0</td>\n      <td>0</td>\n      <td>0</td>\n    </tr>\n    <tr>\n      <th>3</th>\n      <td>566609</td>\n      <td>0.0</td>\n      <td>0.0</td>\n      <td>0.0</td>\n      <td>F</td>\n      <td>N</td>\n      <td>Blue</td>\n      <td>Triangle</td>\n      <td>Lion</td>\n      <td>India</td>\n      <td>...</td>\n      <td>3.0</td>\n      <td>Novice</td>\n      <td>Warm</td>\n      <td>n</td>\n      <td>Z</td>\n      <td>lA</td>\n      <td>7.0</td>\n      <td>3.0</td>\n      <td>1</td>\n      <td>0</td>\n    </tr>\n    <tr>\n      <th>4</th>\n      <td>427263</td>\n      <td>NaN</td>\n      <td>0.0</td>\n      <td>0.0</td>\n      <td>F</td>\n      <td>Y</td>\n      <td>Blue</td>\n      <td>Square</td>\n      <td>Dog</td>\n      <td>Costa Rica</td>\n      <td>...</td>\n      <td>1.0</td>\n      <td>Grandmaster</td>\n      <td>NaN</td>\n      <td>NaN</td>\n      <td>H</td>\n      <td>NaN</td>\n      <td>2.0</td>\n      <td>12.0</td>\n      <td>0</td>\n      <td>0</td>\n    </tr>\n    <tr>\n      <th>...</th>\n      <td>...</td>\n      <td>...</td>\n      <td>...</td>\n      <td>...</td>\n      <td>...</td>\n      <td>...</td>\n      <td>...</td>\n      <td>...</td>\n      <td>...</td>\n      <td>...</td>\n      <td>...</td>\n      <td>...</td>\n      <td>...</td>\n      <td>...</td>\n      <td>...</td>\n      <td>...</td>\n      <td>...</td>\n      <td>...</td>\n      <td>...</td>\n      <td>...</td>\n      <td>...</td>\n    </tr>\n    <tr>\n      <th>599995</th>\n      <td>336782</td>\n      <td>0.0</td>\n      <td>0.0</td>\n      <td>0.0</td>\n      <td>F</td>\n      <td>Y</td>\n      <td>Blue</td>\n      <td>Triangle</td>\n      <td>Lion</td>\n      <td>Russia</td>\n      <td>...</td>\n      <td>NaN</td>\n      <td>Contributor</td>\n      <td>Boiling Hot</td>\n      <td>n</td>\n      <td>NaN</td>\n      <td>Fl</td>\n      <td>7.0</td>\n      <td>8.0</td>\n      <td>1</td>\n      <td>4</td>\n    </tr>\n    <tr>\n      <th>599996</th>\n      <td>31099</td>\n      <td>0.0</td>\n      <td>0.0</td>\n      <td>1.0</td>\n      <td>F</td>\n      <td>N</td>\n      <td>Blue</td>\n      <td>Circle</td>\n      <td>Axolotl</td>\n      <td>Russia</td>\n      <td>...</td>\n      <td>1.0</td>\n      <td>Expert</td>\n      <td>Warm</td>\n      <td>i</td>\n      <td>K</td>\n      <td>DT</td>\n      <td>7.0</td>\n      <td>5.0</td>\n      <td>0</td>\n      <td>4</td>\n    </tr>\n    <tr>\n      <th>599997</th>\n      <td>87504</td>\n      <td>0.0</td>\n      <td>0.0</td>\n      <td>0.0</td>\n      <td>F</td>\n      <td>Y</td>\n      <td>Green</td>\n      <td>Trapezoid</td>\n      <td>Hamster</td>\n      <td>India</td>\n      <td>...</td>\n      <td>1.0</td>\n      <td>Expert</td>\n      <td>Hot</td>\n      <td>n</td>\n      <td>I</td>\n      <td>ly</td>\n      <td>7.0</td>\n      <td>3.0</td>\n      <td>0</td>\n      <td>4</td>\n    </tr>\n    <tr>\n      <th>599998</th>\n      <td>181930</td>\n      <td>1.0</td>\n      <td>1.0</td>\n      <td>0.0</td>\n      <td>F</td>\n      <td>N</td>\n      <td>Blue</td>\n      <td>Polygon</td>\n      <td>Hamster</td>\n      <td>Costa Rica</td>\n      <td>...</td>\n      <td>2.0</td>\n      <td>Master</td>\n      <td>Warm</td>\n      <td>b</td>\n      <td>I</td>\n      <td>jf</td>\n      <td>5.0</td>\n      <td>8.0</td>\n      <td>1</td>\n      <td>4</td>\n    </tr>\n    <tr>\n      <th>599999</th>\n      <td>309963</td>\n      <td>0.0</td>\n      <td>0.0</td>\n      <td>0.0</td>\n      <td>T</td>\n      <td>Y</td>\n      <td>Blue</td>\n      <td>Triangle</td>\n      <td>Cat</td>\n      <td>Costa Rica</td>\n      <td>...</td>\n      <td>2.0</td>\n      <td>Grandmaster</td>\n      <td>Freezing</td>\n      <td>k</td>\n      <td>T</td>\n      <td>kv</td>\n      <td>3.0</td>\n      <td>11.0</td>\n      <td>0</td>\n      <td>4</td>\n    </tr>\n  </tbody>\n</table>\n<p>600000 rows × 26 columns</p>\n</div>"
     },
     "metadata": {},
     "execution_count": 52
    }
   ],
   "source": [
    "df"
   ]
  },
  {
   "cell_type": "code",
   "execution_count": 53,
   "metadata": {},
   "outputs": [],
   "source": [
    "# save the new csv with kfold column\n",
    "df.to_csv(\"../input/cat_train_folds.csv\", index=False)"
   ]
  },
  {
   "cell_type": "code",
   "execution_count": 54,
   "metadata": {},
   "outputs": [
    {
     "output_type": "execute_result",
     "data": {
      "text/plain": [
       "0    120000\n",
       "1    120000\n",
       "2    120000\n",
       "3    120000\n",
       "4    120000\n",
       "Name: kfold, dtype: int64"
      ]
     },
     "metadata": {},
     "execution_count": 54
    }
   ],
   "source": [
    " df = pd.read_csv(\"../input/cat_train_folds.csv\")\n",
    " df.kfold.value_counts()"
   ]
  },
  {
   "cell_type": "code",
   "execution_count": 55,
   "metadata": {},
   "outputs": [
    {
     "output_type": "execute_result",
     "data": {
      "text/plain": [
       "0    97536\n",
       "1    22464\n",
       "Name: target, dtype: int64"
      ]
     },
     "metadata": {},
     "execution_count": 55
    }
   ],
   "source": [
    "df[df.kfold==0].target.value_counts()"
   ]
  },
  {
   "cell_type": "code",
   "execution_count": 56,
   "metadata": {},
   "outputs": [
    {
     "output_type": "execute_result",
     "data": {
      "text/plain": [
       "0    97536\n",
       "1    22464\n",
       "Name: target, dtype: int64"
      ]
     },
     "metadata": {},
     "execution_count": 56
    }
   ],
   "source": [
    "df[df.kfold==1].target.value_counts()"
   ]
  },
  {
   "cell_type": "code",
   "execution_count": 57,
   "metadata": {},
   "outputs": [
    {
     "output_type": "execute_result",
     "data": {
      "text/plain": [
       "0    97535\n",
       "1    22465\n",
       "Name: target, dtype: int64"
      ]
     },
     "metadata": {},
     "execution_count": 57
    }
   ],
   "source": [
    "df[df.kfold==2].target.value_counts()"
   ]
  },
  {
   "cell_type": "code",
   "execution_count": 58,
   "metadata": {},
   "outputs": [
    {
     "output_type": "execute_result",
     "data": {
      "text/plain": [
       "0    97535\n",
       "1    22465\n",
       "Name: target, dtype: int64"
      ]
     },
     "metadata": {},
     "execution_count": 58
    }
   ],
   "source": [
    "df[df.kfold==3].target.value_counts()"
   ]
  },
  {
   "cell_type": "code",
   "execution_count": 59,
   "metadata": {},
   "outputs": [
    {
     "output_type": "execute_result",
     "data": {
      "text/plain": [
       "0    97535\n",
       "1    22465\n",
       "Name: target, dtype: int64"
      ]
     },
     "metadata": {},
     "execution_count": 59
    }
   ],
   "source": [
    "df[df.kfold==4].target.value_counts()"
   ]
  },
  {
   "cell_type": "code",
   "execution_count": null,
   "metadata": {},
   "outputs": [],
   "source": []
  }
 ]
}